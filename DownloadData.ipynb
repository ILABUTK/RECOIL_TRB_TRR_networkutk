{
 "cells": [
  {
   "cell_type": "code",
   "execution_count": 3,
   "id": "60782682-ec9c-4492-a6b8-69d42c42d94e",
   "metadata": {},
   "outputs": [],
   "source": [
    "#downloading data"
   ]
  },
  {
   "cell_type": "code",
   "execution_count": 1,
   "id": "5cdcaa70-6ef5-429c-870a-88afd83efe45",
   "metadata": {},
   "outputs": [],
   "source": [
    "import intake_esgf\n",
    "import matplotlib as mpl\n",
    "from datatree import DataTree\n",
    "intake_esgf.conf.set(additional_df_cols=[])\n",
    "intake_esgf.conf.save()"
   ]
  },
  {
   "cell_type": "code",
   "execution_count": 2,
   "id": "2bf88bfa-735a-495f-abd7-ca13a9658672",
   "metadata": {},
   "outputs": [
    {
     "data": {
      "text/plain": [
       "Perform a search() to populate the catalog."
      ]
     },
     "execution_count": 2,
     "metadata": {},
     "output_type": "execute_result"
    }
   ],
   "source": [
    "cat = intake_esgf.catalog.ESGFCatalog()\n",
    "cat"
   ]
  },
  {
   "cell_type": "code",
   "execution_count": 7,
   "id": "344500b3-893f-447c-8c59-95601aca3db2",
   "metadata": {},
   "outputs": [
    {
     "data": {
      "application/vnd.jupyter.widget-view+json": {
       "model_id": "0100fd428c4141b5af3dab94b0696890",
       "version_major": 2,
       "version_minor": 0
      },
      "text/plain": [
       "   Searching indices:   0%|          |0/2 [       ?index/s]"
      ]
     },
     "metadata": {},
     "output_type": "display_data"
    },
    {
     "data": {
      "text/plain": [
       "Summary information for 89 results:\n",
       "experiment_id                                  [ssp585, historical]\n",
       "variable_id                                                [tasmax]\n",
       "grid_label                                       [gn, gr, gr1, gr2]\n",
       "source_id         [AWI-CM-1-1-MR, CAMS-CSM1-0, MRI-ESM2-0, KACE-...\n",
       "member_id         [r1i1p1f1, r2i1p1f1, r2i1p2f1, r4i1p1f1, r1i1p...\n",
       "activity_drs                                    [ScenarioMIP, CMIP]\n",
       "table_id                                                [day, Amon]\n",
       "mip_era                                                     [CMIP6]\n",
       "institution_id    [AWI, CAMS, MRI, NIMS-KMA, MPI-M, CMCC, BCC, C...\n",
       "project                                                     [CMIP6]\n",
       "dtype: object"
      ]
     },
     "execution_count": 7,
     "metadata": {},
     "output_type": "execute_result"
    }
   ],
   "source": [
    "experiments = [\"historical\", \"ssp585\"]\n",
    "\n",
    "variables = [\"tasmax\"]\n",
    "subset = cat.search(\n",
    "        #activity_id=\"CMIP\",\n",
    "        experiment_id=experiments,\n",
    "        #source_id=\"CESM2\",\n",
    "        variable_id=variables,\n",
    "        frequency=\"day\",\n",
    "        #grid_label=\"gn\",\n",
    "        #member_id=[\"r1i1p1f1\"],\n",
    ")\n",
    "subset.remove_ensembles()\n",
    "subset"
   ]
  },
  {
   "cell_type": "markdown",
   "id": "ae289d94-c246-4231-b09b-34a8dab5ed0b",
   "metadata": {},
   "source": [
    "\n",
    "## choose the data to keep\n",
    "https://intake-esgf.readthedocs.io/en/latest/modelgroups.html"
   ]
  },
  {
   "cell_type": "code",
   "execution_count": 8,
   "id": "d0d99c7d-e553-42b6-b0b0-44f6abe07a01",
   "metadata": {
    "tags": []
   },
   "outputs": [
    {
     "data": {
      "text/plain": [
       "source_id          member_id  grid_label\n",
       "ACCESS-CM2         r1i1p1f1   gn            2\n",
       "ACCESS-ESM1-5      r1i1p1f1   gn            2\n",
       "AWI-CM-1-1-MR      r1i1p1f1   gn            2\n",
       "AWI-ESM-1-1-LR     r1i1p1f1   gn            1\n",
       "BCC-CSM2-MR        r1i1p1f1   gn            1\n",
       "BCC-ESM1           r1i1p1f1   gn            1\n",
       "CAMS-CSM1-0        r2i1p1f1   gn            2\n",
       "CanESM5            r1i1p1f1   gn            2\n",
       "CanESM5-1          r1i1p1f1   gn            1\n",
       "CESM2              r4i1p1f1   gn            1\n",
       "CESM2-WACCM        r1i1p1f1   gn            1\n",
       "CMCC-CM2-SR5       r2i1p2f1   gn            1\n",
       "CMCC-ESM2          r1i1p1f1   gn            2\n",
       "CNRM-CM6-1         r1i1p1f2   gr            2\n",
       "CNRM-CM6-1-HR      r1i1p1f2   gr            2\n",
       "CNRM-ESM2-1        r1i1p1f2   gr            2\n",
       "E3SM-1-0           r1i1p1f1   gr            2\n",
       "E3SM-1-1-ECA       r1i1p1f1   gr            1\n",
       "E3SM-2-0           r1i1p1f1   gr            1\n",
       "EC-Earth3          r1i1p1f1   gr            2\n",
       "EC-Earth3-AerChem  r1i1p1f1   gr            1\n",
       "EC-Earth3-CC       r1i1p1f1   gr            2\n",
       "EC-Earth3-Veg      r1i1p1f1   gr            2\n",
       "EC-Earth3-Veg-LR   r1i1p1f1   gr            2\n",
       "FGOALS-f3-L        r1i1p1f1   gr            1\n",
       "FGOALS-g3          r1i1p1f1   gn            2\n",
       "GFDL-CM4           r1i1p1f1   gr1           2\n",
       "                              gr2           2\n",
       "GFDL-ESM4          r1i1p1f1   gr1           2\n",
       "GISS-E2-1-G        r1i1p1f1   gn            1\n",
       "GISS-E2-2-G        r1i1p1f1   gn            1\n",
       "HadGEM3-GC31-LL    r1i1p1f3   gn            2\n",
       "HadGEM3-GC31-MM    r1i1p1f3   gn            2\n",
       "IITM-ESM           r1i1p1f1   gn            1\n",
       "INM-CM4-8          r1i1p1f1   gr1           2\n",
       "INM-CM5-0          r1i1p1f1   gr1           2\n",
       "IPSL-CM6A-LR       r1i1p1f1   gr            2\n",
       "KACE-1-0-G         r1i1p1f1   gr            4\n",
       "KIOST-ESM          r1i1p1f1   gr1           2\n",
       "MIROC-ES2L         r1i1p1f2   gn            2\n",
       "MIROC6             r1i1p1f1   gn            2\n",
       "MPI-ESM-1-2-HAM    r1i1p1f1   gn            1\n",
       "MPI-ESM1-2-HR      r1i1p1f1   gn            2\n",
       "MPI-ESM1-2-LR      r1i1p1f1   gn            2\n",
       "MRI-ESM2-0         r1i1p1f1   gn            2\n",
       "NESM3              r1i1p1f1   gn            2\n",
       "NorCPM1            r1i1p1f1   gn            1\n",
       "NorESM2-LM         r1i1p1f1   gn            2\n",
       "NorESM2-MM         r1i1p1f1   gn            2\n",
       "SAM0-UNICON        r1i1p1f1   gn            1\n",
       "TaiESM1            r1i1p1f1   gn            2\n",
       "UKESM1-0-LL        r1i1p1f2   gn            2\n",
       "Name: experiment_id, dtype: int64"
      ]
     },
     "execution_count": 8,
     "metadata": {},
     "output_type": "execute_result"
    }
   ],
   "source": [
    "cat.model_groups()"
   ]
  },
  {
   "cell_type": "code",
   "execution_count": 10,
   "id": "a139d10e-7958-4338-b3c9-f5ab71a31ca4",
   "metadata": {
    "tags": []
   },
   "outputs": [
    {
     "name": "stdout",
     "output_type": "stream",
     "text": [
      "source_id         member_id  grid_label\n",
      "ACCESS-CM2        r1i1p1f1   gn            2\n",
      "ACCESS-ESM1-5     r1i1p1f1   gn            2\n",
      "AWI-CM-1-1-MR     r1i1p1f1   gn            2\n",
      "CAMS-CSM1-0       r2i1p1f1   gn            2\n",
      "CanESM5           r1i1p1f1   gn            2\n",
      "CMCC-ESM2         r1i1p1f1   gn            2\n",
      "CNRM-CM6-1        r1i1p1f2   gr            2\n",
      "CNRM-CM6-1-HR     r1i1p1f2   gr            2\n",
      "CNRM-ESM2-1       r1i1p1f2   gr            2\n",
      "E3SM-1-0          r1i1p1f1   gr            2\n",
      "EC-Earth3         r1i1p1f1   gr            2\n",
      "EC-Earth3-CC      r1i1p1f1   gr            2\n",
      "EC-Earth3-Veg     r1i1p1f1   gr            2\n",
      "EC-Earth3-Veg-LR  r1i1p1f1   gr            2\n",
      "FGOALS-g3         r1i1p1f1   gn            2\n",
      "GFDL-CM4          r1i1p1f1   gr1           2\n",
      "                             gr2           2\n",
      "GFDL-ESM4         r1i1p1f1   gr1           2\n",
      "HadGEM3-GC31-LL   r1i1p1f3   gn            2\n",
      "HadGEM3-GC31-MM   r1i1p1f3   gn            2\n",
      "INM-CM4-8         r1i1p1f1   gr1           2\n",
      "INM-CM5-0         r1i1p1f1   gr1           2\n",
      "IPSL-CM6A-LR      r1i1p1f1   gr            2\n",
      "KIOST-ESM         r1i1p1f1   gr1           2\n",
      "MIROC-ES2L        r1i1p1f2   gn            2\n",
      "MIROC6            r1i1p1f1   gn            2\n",
      "MPI-ESM1-2-HR     r1i1p1f1   gn            2\n",
      "MPI-ESM1-2-LR     r1i1p1f1   gn            2\n",
      "MRI-ESM2-0        r1i1p1f1   gn            2\n",
      "NESM3             r1i1p1f1   gn            2\n",
      "NorESM2-LM        r1i1p1f1   gn            2\n",
      "NorESM2-MM        r1i1p1f1   gn            2\n",
      "TaiESM1           r1i1p1f1   gn            2\n",
      "UKESM1-0-LL       r1i1p1f2   gn            2\n",
      "Name: experiment_id, dtype: int64\n"
     ]
    }
   ],
   "source": [
    "mgs = cat.model_groups()\n",
    "print(mgs[mgs==2])"
   ]
  },
  {
   "cell_type": "code",
   "execution_count": 8,
   "id": "2d993fb2-b610-4de9-be5b-d7924e7e1613",
   "metadata": {},
   "outputs": [
    {
     "name": "stdout",
     "output_type": "stream",
     "text": [
      "additional_df_cols: []\n",
      "download_db: ~/.config/intake-esgf/download.db\n",
      "esg_dataroot:\n",
      "- /p/css03/esgf_publish\n",
      "- /eagle/projects/ESGF2/esg_dataroot\n",
      "- /global/cfs/projectdirs/m3522/cmip6/\n",
      "globus_indices:\n",
      "  anl-dev: true\n",
      "  ornl-dev: true\n",
      "local_cache:\n",
      "- ~/.esgf/\n",
      "logfile: ~/.config/intake-esgf/esgf.log\n",
      "solr_indices:\n",
      "  esg-dn1.nsc.liu.se: false\n",
      "  esgf-data.dkrz.de: false\n",
      "  esgf-node.ipsl.upmc.fr: false\n",
      "  esgf-node.llnl.gov: false\n",
      "  esgf-node.ornl.gov: false\n",
      "  esgf.ceda.ac.uk: false\n",
      "  esgf.nci.org.au: false\n",
      "\n"
     ]
    }
   ],
   "source": [
    "import intake_esgf\n",
    "print(intake_esgf.conf)"
   ]
  },
  {
   "cell_type": "code",
   "execution_count": 4,
   "id": "6f6374b6-80a8-4513-965a-2e227397b9fd",
   "metadata": {},
   "outputs": [
    {
     "data": {
      "application/vnd.jupyter.widget-view+json": {
       "model_id": "633792382d6c4a818f15a5072c431dec",
       "version_major": 2,
       "version_minor": 0
      },
      "text/plain": [
       "Get file information:   0%|          |0/2 [       ?index/s]"
      ]
     },
     "metadata": {},
     "output_type": "display_data"
    },
    {
     "data": {
      "application/vnd.jupyter.widget-view+json": {
       "model_id": "127ebcac58f945f081de43dcde835393",
       "version_major": 2,
       "version_minor": 0
      },
      "text/plain": [
       "Adding cell measures:   0%|          |0/2 [     ?dataset/s]"
      ]
     },
     "metadata": {},
     "output_type": "display_data"
    }
   ],
   "source": [
    "dsets = subset.to_dataset_dict()"
   ]
  },
  {
   "cell_type": "code",
   "execution_count": 6,
   "id": "991ef708-bd89-4369-9950-6bbfd10373bb",
   "metadata": {},
   "outputs": [
    {
     "data": {
      "text/plain": [
       "\u001b[0;31mSignature:\u001b[0m\n",
       "\u001b[0msubset\u001b[0m\u001b[0;34m.\u001b[0m\u001b[0mto_dataset_dict\u001b[0m\u001b[0;34m(\u001b[0m\u001b[0;34m\u001b[0m\n",
       "\u001b[0;34m\u001b[0m    \u001b[0mminimal_keys\u001b[0m\u001b[0;34m:\u001b[0m \u001b[0mbool\u001b[0m \u001b[0;34m=\u001b[0m \u001b[0;32mTrue\u001b[0m\u001b[0;34m,\u001b[0m\u001b[0;34m\u001b[0m\n",
       "\u001b[0;34m\u001b[0m    \u001b[0mignore_facets\u001b[0m\u001b[0;34m:\u001b[0m \u001b[0mUnion\u001b[0m\u001b[0;34m[\u001b[0m\u001b[0mNoneType\u001b[0m\u001b[0;34m,\u001b[0m \u001b[0mstr\u001b[0m\u001b[0;34m,\u001b[0m \u001b[0mlist\u001b[0m\u001b[0;34m[\u001b[0m\u001b[0mstr\u001b[0m\u001b[0;34m]\u001b[0m\u001b[0;34m]\u001b[0m \u001b[0;34m=\u001b[0m \u001b[0;32mNone\u001b[0m\u001b[0;34m,\u001b[0m\u001b[0;34m\u001b[0m\n",
       "\u001b[0;34m\u001b[0m    \u001b[0mseparator\u001b[0m\u001b[0;34m:\u001b[0m \u001b[0mstr\u001b[0m \u001b[0;34m=\u001b[0m \u001b[0;34m'.'\u001b[0m\u001b[0;34m,\u001b[0m\u001b[0;34m\u001b[0m\n",
       "\u001b[0;34m\u001b[0m    \u001b[0mnum_threads\u001b[0m\u001b[0;34m:\u001b[0m \u001b[0mint\u001b[0m \u001b[0;34m=\u001b[0m \u001b[0;36m6\u001b[0m\u001b[0;34m,\u001b[0m\u001b[0;34m\u001b[0m\n",
       "\u001b[0;34m\u001b[0m    \u001b[0mquiet\u001b[0m\u001b[0;34m:\u001b[0m \u001b[0mbool\u001b[0m \u001b[0;34m=\u001b[0m \u001b[0;32mFalse\u001b[0m\u001b[0;34m,\u001b[0m\u001b[0;34m\u001b[0m\n",
       "\u001b[0;34m\u001b[0m    \u001b[0madd_measures\u001b[0m\u001b[0;34m:\u001b[0m \u001b[0mbool\u001b[0m \u001b[0;34m=\u001b[0m \u001b[0;32mTrue\u001b[0m\u001b[0;34m,\u001b[0m\u001b[0;34m\u001b[0m\n",
       "\u001b[0;34m\u001b[0m    \u001b[0mglobus_endpoint\u001b[0m\u001b[0;34m:\u001b[0m \u001b[0mOptional\u001b[0m\u001b[0;34m[\u001b[0m\u001b[0mstr\u001b[0m\u001b[0;34m]\u001b[0m \u001b[0;34m=\u001b[0m \u001b[0;32mNone\u001b[0m\u001b[0;34m,\u001b[0m\u001b[0;34m\u001b[0m\n",
       "\u001b[0;34m\u001b[0m    \u001b[0mglobus_path\u001b[0m\u001b[0;34m:\u001b[0m \u001b[0mOptional\u001b[0m\u001b[0;34m[\u001b[0m\u001b[0mpathlib\u001b[0m\u001b[0;34m.\u001b[0m\u001b[0mPath\u001b[0m\u001b[0;34m]\u001b[0m \u001b[0;34m=\u001b[0m \u001b[0;32mNone\u001b[0m\u001b[0;34m,\u001b[0m\u001b[0;34m\u001b[0m\n",
       "\u001b[0;34m\u001b[0m    \u001b[0moperators\u001b[0m\u001b[0;34m:\u001b[0m \u001b[0mlist\u001b[0m\u001b[0;34m[\u001b[0m\u001b[0mtyping\u001b[0m\u001b[0;34m.\u001b[0m\u001b[0mAny\u001b[0m\u001b[0;34m]\u001b[0m \u001b[0;34m=\u001b[0m \u001b[0;34m[\u001b[0m\u001b[0;34m]\u001b[0m\u001b[0;34m,\u001b[0m\u001b[0;34m\u001b[0m\n",
       "\u001b[0;34m\u001b[0m\u001b[0;34m)\u001b[0m \u001b[0;34m->\u001b[0m \u001b[0mdict\u001b[0m\u001b[0;34m[\u001b[0m\u001b[0mstr\u001b[0m\u001b[0;34m,\u001b[0m \u001b[0mxarray\u001b[0m\u001b[0;34m.\u001b[0m\u001b[0mcore\u001b[0m\u001b[0;34m.\u001b[0m\u001b[0mdataset\u001b[0m\u001b[0;34m.\u001b[0m\u001b[0mDataset\u001b[0m\u001b[0;34m]\u001b[0m\u001b[0;34m\u001b[0m\u001b[0;34m\u001b[0m\u001b[0m\n",
       "\u001b[0;31mDocstring:\u001b[0m\n",
       "Return the current search as a dictionary of datasets.\n",
       "\n",
       "By default, the keys of the returned dictionary are the minimal set of facets\n",
       "required to uniquely describe the search. If you prefer to use a full set of\n",
       "facets, set `minimal_keys=False`.\n",
       "\n",
       "Parameters\n",
       "----------\n",
       "minimal_keys\n",
       "    Disable to return a dictonary whose keys are formed using all facets, by\n",
       "    default we use a minimal set of facets to build the simplest keys.\n",
       "ignore_facets\n",
       "    When constructing the dictionary keys, which facets should we ignore?\n",
       "separator\n",
       "    When generating the keys, the string to use as a seperator of facets.\n",
       "num_threads\n",
       "    The number of threads to use when downloading files.\n",
       "\u001b[0;31mFile:\u001b[0m      ~/opt/anaconda3/envs/esgf-cookbook-dev/lib/python3.10/site-packages/intake_esgf/catalog.py\n",
       "\u001b[0;31mType:\u001b[0m      method"
      ]
     },
     "metadata": {},
     "output_type": "display_data"
    }
   ],
   "source": [
    "subset.to_dataset_dict?"
   ]
  },
  {
   "cell_type": "code",
   "execution_count": 16,
   "id": "f1e98aec-f386-4dd6-8d36-5e6feb342aef",
   "metadata": {},
   "outputs": [
    {
     "data": {
      "text/plain": [
       "array(['CanESM5', 'AWI-CM-1-1-MR', 'CAMS-CSM1-0', 'MRI-ESM2-0',\n",
       "       'CNRM-ESM2-1', 'CNRM-CM6-1', 'ACCESS-CM2', 'MPI-ESM1-2-LR',\n",
       "       'MIROC6', 'ACCESS-ESM1-5', 'NorCPM1', 'KACE-1-0-G',\n",
       "       'HadGEM3-GC31-LL', 'HadGEM3-GC31-MM', 'CMCC-CM2-SR5',\n",
       "       'IPSL-CM6A-LR', 'BCC-ESM1', 'MIROC-ES2L', 'NorESM2-MM', 'E3SM-1-0',\n",
       "       'EC-Earth3-Veg', 'EC-Earth3', 'MPI-ESM-1-2-HAM', 'EC-Earth3-CC',\n",
       "       'TaiESM1', 'BCC-CSM2-MR', 'CESM2', 'UKESM1-0-LL', 'KIOST-ESM',\n",
       "       'FGOALS-g3', 'INM-CM5-0', 'NorESM2-LM', 'E3SM-2-0', 'NESM3',\n",
       "       'INM-CM4-8', 'MPI-ESM1-2-HR', 'CESM2-WACCM', 'CNRM-CM6-1-HR',\n",
       "       'EC-Earth3-Veg-LR', 'FGOALS-f3-L', 'CMCC-ESM2', 'GFDL-CM4',\n",
       "       'AWI-ESM-1-1-LR', 'GFDL-ESM4', 'GISS-E2-1-G', 'IITM-ESM',\n",
       "       'EC-Earth3-AerChem', 'SAM0-UNICON', 'CanESM5-1', 'GISS-E2-2-G',\n",
       "       'E3SM-1-1-ECA'], dtype=object)"
      ]
     },
     "execution_count": 16,
     "metadata": {},
     "output_type": "execute_result"
    }
   ],
   "source": [
    "subset.df['source_id'].unique()"
   ]
  },
  {
   "cell_type": "code",
   "execution_count": 9,
   "id": "74106a6e-48a9-4009-8489-11828b600eb2",
   "metadata": {},
   "outputs": [
    {
     "name": "stdout",
     "output_type": "stream",
     "text": [
      "\u001b[36;20m2024-07-10 15:11:17 \u001b[0m\u001b[36;32msearch begin\u001b[0m experiment_id=['historical', 'ssp585'], source_id=['CanESM5'], variable_id=['tasmax'], frequency=['day'], type=['Dataset'], project=['CMIP6'], latest=[True], retracted=[False]\n",
      "\u001b[36;20m2024-07-10 15:11:19 \u001b[0mcombine_time=0.03\n",
      "\u001b[36;20m2024-07-10 15:11:19 \u001b[0m\u001b[36;32msearch end\u001b[0m total_time=1.66\n",
      "\n"
     ]
    }
   ],
   "source": [
    "print(cat.session_log())"
   ]
  },
  {
   "cell_type": "code",
   "execution_count": 11,
   "id": "ffcb852c-f4c6-4768-8675-3a31ce81039a",
   "metadata": {},
   "outputs": [
    {
     "name": "stdout",
     "output_type": "stream",
     "text": [
      "additional_df_cols: []\n",
      "download_db: ~/.config/intake-esgf/download.db\n",
      "esg_dataroot:\n",
      "- /p/css03/esgf_publish\n",
      "- /eagle/projects/ESGF2/esg_dataroot\n",
      "- /global/cfs/projectdirs/m3522/cmip6/\n",
      "globus_indices:\n",
      "  anl-dev: true\n",
      "  ornl-dev: true\n",
      "local_cache:\n",
      "- ~/.esgf/\n",
      "logfile: ~/.config/intake-esgf/esgf.log\n",
      "solr_indices:\n",
      "  esg-dn1.nsc.liu.se: false\n",
      "  esgf-data.dkrz.de: false\n",
      "  esgf-node.ipsl.upmc.fr: false\n",
      "  esgf-node.llnl.gov: false\n",
      "  esgf-node.ornl.gov: false\n",
      "  esgf.ceda.ac.uk: false\n",
      "  esgf.nci.org.au: false\n",
      "\n"
     ]
    }
   ],
   "source": [
    "# files are save at local_cache\n",
    "print(intake_esgf.conf)"
   ]
  },
  {
   "cell_type": "code",
   "execution_count": null,
   "id": "f5203d5d-7dc8-41bb-b912-185336628f8f",
   "metadata": {},
   "outputs": [],
   "source": []
  }
 ],
 "metadata": {
  "kernelspec": {
   "display_name": "Python 3 (ipykernel)",
   "language": "python",
   "name": "python3"
  },
  "language_info": {
   "codemirror_mode": {
    "name": "ipython",
    "version": 3
   },
   "file_extension": ".py",
   "mimetype": "text/x-python",
   "name": "python",
   "nbconvert_exporter": "python",
   "pygments_lexer": "ipython3",
   "version": "3.9.6"
  }
 },
 "nbformat": 4,
 "nbformat_minor": 5
}
