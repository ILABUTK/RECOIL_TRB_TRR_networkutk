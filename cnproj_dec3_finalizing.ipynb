{
 "cells": [
  {
   "cell_type": "code",
   "execution_count": 1,
   "metadata": {
    "jupyter": {
     "outputs_hidden": true
    }
   },
   "outputs": [],
   "source": [
    "import numpy as np\n",
    "import networkx as nx\n",
    "import matplotlib.pyplot as plt\n",
    "import matplotlib as mpl\n",
    "%matplotlib inline\n",
    "from __future__ import division\n",
    "import csv\n",
    "import math\n",
    "import powerlaw\n",
    "from numpy import genfromtxt\n",
    "import random\n",
    "import pandas as pd"
   ]
  },
  {
   "cell_type": "code",
   "execution_count": 2,
   "metadata": {
    "jupyter": {
     "outputs_hidden": true
    }
   },
   "outputs": [
    {
     "ename": "NameError",
     "evalue": "name 'genfromtxt' is not defined",
     "output_type": "error",
     "traceback": [
      "\u001b[0;31m---------------------------------------------------------------------------\u001b[0m",
      "\u001b[0;31mNameError\u001b[0m                                 Traceback (most recent call last)",
      "Cell \u001b[0;32mIn[2], line 2\u001b[0m\n\u001b[1;32m      1\u001b[0m \u001b[38;5;66;03m#importing data\u001b[39;00m\n\u001b[0;32m----> 2\u001b[0m edges \u001b[38;5;241m=\u001b[39m genfromtxt(\u001b[38;5;124m'\u001b[39m\u001b[38;5;124m/Users/maedehrahimitouranposhti/Downloads/cnproj_edges.csv\u001b[39m\u001b[38;5;124m'\u001b[39m, delimiter\u001b[38;5;241m=\u001b[39m\u001b[38;5;124m'\u001b[39m\u001b[38;5;124m,\u001b[39m\u001b[38;5;124m'\u001b[39m,dtype\u001b[38;5;241m=\u001b[39m\u001b[38;5;28mstr\u001b[39m)\n\u001b[1;32m      3\u001b[0m nodes \u001b[38;5;241m=\u001b[39m genfromtxt(\u001b[38;5;124m'\u001b[39m\u001b[38;5;124m/Users/maedehrahimitouranposhti/Downloads/cnproj_nodes.csv\u001b[39m\u001b[38;5;124m'\u001b[39m, delimiter\u001b[38;5;241m=\u001b[39m\u001b[38;5;124m'\u001b[39m\u001b[38;5;124m,\u001b[39m\u001b[38;5;124m'\u001b[39m,dtype\u001b[38;5;241m=\u001b[39m\u001b[38;5;28mstr\u001b[39m)\n",
      "\u001b[0;31mNameError\u001b[0m: name 'genfromtxt' is not defined"
     ]
    }
   ],
   "source": [
    "#importing data\n",
    "edges = genfromtxt('/Users/maedehrahimitouranposhti/Downloads/cnproj_edges.csv', delimiter=',',dtype=str)\n",
    "nodes = genfromtxt('/Users/maedehrahimitouranposhti/Downloads/cnproj_nodes.csv', delimiter=',',dtype=str)"
   ]
  },
  {
   "cell_type": "code",
   "execution_count": 3,
   "metadata": {
    "jupyter": {
     "outputs_hidden": true
    }
   },
   "outputs": [],
   "source": [
    "#filtering data\n",
    "nodes=nodes[1:]\n",
    "Id=edges[1:,3]\n",
    "array=edges[1:,0:3]\n",
    "source=array[:,0]\n",
    "target=array[:,1]\n",
    "weight=array[:,2]\n",
    "#comment"
   ]
  },
  {
   "cell_type": "code",
   "execution_count": 4,
   "metadata": {
    "jupyter": {
     "outputs_hidden": true
    }
   },
   "outputs": [],
   "source": [
    "#making weighted graph from source and target\n",
    "G=nx.Graph()\n",
    "G.add_weighted_edges_from(array)\n",
    "#nx.draw(G)"
   ]
  },
  {
   "cell_type": "code",
   "execution_count": 5,
   "metadata": {},
   "outputs": [
    {
     "ename": "NameError",
     "evalue": "name 'degree_airport' is not defined",
     "output_type": "error",
     "traceback": [
      "\u001b[0;31m---------------------------------------------------------------------------\u001b[0m",
      "\u001b[0;31mNameError\u001b[0m                                 Traceback (most recent call last)",
      "Cell \u001b[0;32mIn[5], line 2\u001b[0m\n\u001b[1;32m      1\u001b[0m \u001b[38;5;66;03m#converting the degree of airports to column array\u001b[39;00m\n\u001b[0;32m----> 2\u001b[0m degree_airport\u001b[38;5;241m=\u001b[39mnp\u001b[38;5;241m.\u001b[39masarray(degree_airport)\n\u001b[1;32m      3\u001b[0m degree_airport_t\u001b[38;5;241m=\u001b[39mnp\u001b[38;5;241m.\u001b[39marray([degree_airport])\n\u001b[1;32m      4\u001b[0m degree_airport_t\u001b[38;5;241m=\u001b[39mdegree_airport_t\u001b[38;5;241m.\u001b[39mT\n",
      "\u001b[0;31mNameError\u001b[0m: name 'degree_airport' is not defined"
     ]
    }
   ],
   "source": [
    "#converting the degree of airports to column array\n",
    "degree_airport=np.asarray(degree_airport)\n",
    "degree_airport_t=np.array([degree_airport])\n",
    "degree_airport_t=degree_airport_t.T\n",
    "#degree_airport_t.shape\n",
    "\n",
    "#doing the same with nodes\n",
    "nodes_t=np.array([nodes])\n",
    "nodes_t=nodes_t.T"
   ]
  },
  {
   "cell_type": "code",
   "execution_count": 6,
   "metadata": {},
   "outputs": [
    {
     "ename": "AttributeError",
     "evalue": "'DegreeView' object has no attribute 'values'",
     "output_type": "error",
     "traceback": [
      "\u001b[0;31m---------------------------------------------------------------------------\u001b[0m",
      "\u001b[0;31mAttributeError\u001b[0m                            Traceback (most recent call last)",
      "Cell \u001b[0;32mIn[6], line 2\u001b[0m\n\u001b[1;32m      1\u001b[0m \u001b[38;5;66;03m#plotting the degree distribution in log log graph\u001b[39;00m\n\u001b[0;32m----> 2\u001b[0m degrees1 \u001b[38;5;241m=\u001b[39m \u001b[38;5;28mlist\u001b[39m(G\u001b[38;5;241m.\u001b[39mdegree()\u001b[38;5;241m.\u001b[39mvalues())\n\u001b[1;32m      3\u001b[0m kmin \u001b[38;5;241m=\u001b[39m \u001b[38;5;28mmin\u001b[39m(degrees1)\n\u001b[1;32m      4\u001b[0m kmax \u001b[38;5;241m=\u001b[39m \u001b[38;5;28mmax\u001b[39m(degrees1)\n",
      "\u001b[0;31mAttributeError\u001b[0m: 'DegreeView' object has no attribute 'values'"
     ]
    }
   ],
   "source": [
    "#plotting the degree distribution in log log graph\n",
    "degrees1 = list(G.degree().values())\n",
    "kmin = min(degrees1)\n",
    "kmax = max(degrees1)\n",
    "#storing values of gamma1 using \"PLoS\tONE\t·\tJanuary\t2014 DOI: 10.1371/journal.pone.0085777\"\n",
    "fit1 = powerlaw.Fit(degrees1)\n",
    "gamma1=fit1.power_law.alpha\n",
    "bin_edges = np.logspace(np.log10(kmin), np.log10(kmax), num=10)\n",
    "density1, bins = np.histogram(degrees1, bins=bin_edges, density=True)\n",
    "fig1 = plt.figure(figsize=(6,4))\n",
    "log_be = np.log10(bin_edges)\n",
    "x1 = 10**((log_be[1:] + log_be[:-1])/2)\n",
    "plt.loglog(x1, density1, 'r--', label='Actual') \n",
    "plt.xlabel(r\"degree $k$\", fontsize=16)\n",
    "plt.ylabel(r\"$P(k)$\", fontsize=16)\n",
    "ax = plt.gca()\n",
    "ax.spines['right'].set_visible(False)\n",
    "ax.spines['top'].set_visible(False)\n",
    "ax.yaxis.set_ticks_position('left')\n",
    "ax.xaxis.set_ticks_position('bottom')\n",
    "fit1.power_law.plot_pdf(ax=ax, label='Power law fit',color='r', marker='+')\n",
    "plt.legend(bbox_to_anchor=(1.05, 1), loc=2, borderaxespad=0.)\n",
    "plt.title('Degree distribution \\n',fontsize=16)\n",
    "plt.show()"
   ]
  },
  {
   "cell_type": "code",
   "execution_count": null,
   "metadata": {},
   "outputs": [],
   "source": []
  },
  {
   "cell_type": "code",
   "execution_count": 7,
   "metadata": {
    "jupyter": {
     "outputs_hidden": true
    }
   },
   "outputs": [],
   "source": [
    "#Gamma of the fit\n",
    "#print \"gamma of the fit:\\n\",gamma1"
   ]
  },
  {
   "cell_type": "code",
   "execution_count": 8,
   "metadata": {
    "jupyter": {
     "outputs_hidden": true
    }
   },
   "outputs": [
    {
     "ename": "NameError",
     "evalue": "name 'nodes_t' is not defined",
     "output_type": "error",
     "traceback": [
      "\u001b[0;31m---------------------------------------------------------------------------\u001b[0m",
      "\u001b[0;31mNameError\u001b[0m                                 Traceback (most recent call last)",
      "Cell \u001b[0;32mIn[8], line 1\u001b[0m\n\u001b[0;32m----> 1\u001b[0m update\u001b[38;5;241m=\u001b[39mnp\u001b[38;5;241m.\u001b[39mhstack((nodes_t,degree_airport_t))\n\u001b[1;32m      2\u001b[0m update\u001b[38;5;241m.\u001b[39mshape\n\u001b[1;32m      3\u001b[0m \u001b[38;5;66;03m#update.tofile('update5.csv',sep=',',newline='\\n')\u001b[39;00m\n\u001b[1;32m      4\u001b[0m \u001b[38;5;66;03m#np.savetxt('update6.csv',update, delimiter=',', newline='\\n')#,header='Data generated by numpy')\u001b[39;00m\n\u001b[1;32m      5\u001b[0m \n\u001b[1;32m      6\u001b[0m \u001b[38;5;66;03m#degree_airport.tofile('degree_airport.csv',sep=',',format='%10.5f')#it works\u001b[39;00m\n\u001b[1;32m      7\u001b[0m \n\u001b[1;32m      8\u001b[0m \u001b[38;5;66;03m#using pandas data frame to save the updated file\u001b[39;00m\n",
      "\u001b[0;31mNameError\u001b[0m: name 'nodes_t' is not defined"
     ]
    }
   ],
   "source": [
    "#Gamma of the fit\n",
    "#print \"gamma of the fit:\\n\",gamma1\n",
    "\n",
    "update=np.hstack((nodes_t,degree_airport_t))\n",
    "update.shape\n",
    "#update.tofile('update5.csv',sep=',',newline='\\n')\n",
    "#np.savetxt('update6.csv',update, delimiter=',', newline='\\n')#,header='Data generated by numpy')\n",
    "\n",
    "#degree_airport.tofile('degree_airport.csv',sep=',',format='%10.5f')#it works\n",
    "\n",
    "#using pandas data frame to save the updated file\n",
    "df=pd.DataFrame(update)\n",
    "save='yes'\n",
    "if save=='yes':\n",
    "    df.to_csv(r'update.csv', header=None, index=None, sep=',')"
   ]
  },
  {
   "cell_type": "code",
   "execution_count": 10,
   "metadata": {},
   "outputs": [
    {
     "name": "stdout",
     "output_type": "stream",
     "text": [
      "average degree:  74.98178939034045\n"
     ]
    }
   ],
   "source": [
    "#average degree\n",
    "averagedegree=G.size()*2/len(G)\n",
    "print (\"average degree: \",averagedegree)\n",
    "#G.nodes()"
   ]
  },
  {
   "cell_type": "code",
   "execution_count": 11,
   "metadata": {},
   "outputs": [
    {
     "name": "stdout",
     "output_type": "stream",
     "text": [
      "average clustering coeff:  0.6726269525528162\n"
     ]
    }
   ],
   "source": [
    "#average clustering\n",
    "cluster1=nx.average_clustering(G)\n",
    "print (\"average clustering coeff: \", cluster1)"
   ]
  },
  {
   "cell_type": "code",
   "execution_count": 12,
   "metadata": {},
   "outputs": [
    {
     "name": "stdout",
     "output_type": "stream",
     "text": [
      "diameter of the graph : 5\n"
     ]
    }
   ],
   "source": [
    "#diameter of the Graph\n",
    "diameter=nx.diameter(G)\n",
    "print (\"diameter of the graph :\",diameter )"
   ]
  },
  {
   "cell_type": "code",
   "execution_count": 13,
   "metadata": {},
   "outputs": [
    {
     "name": "stdout",
     "output_type": "stream",
     "text": [
      "average shortest path length:  2.277006297736504\n"
     ]
    }
   ],
   "source": [
    "#average shortest path length\n",
    "path_len_av=nx.average_shortest_path_length(G)\n",
    "print (\"average shortest path length: \", path_len_av)"
   ]
  },
  {
   "cell_type": "code",
   "execution_count": 14,
   "metadata": {
    "jupyter": {
     "outputs_hidden": true
    }
   },
   "outputs": [],
   "source": [
    "#degrees robustness\n",
    "def degree_robust(C):\n",
    "    C=G.copy()\n",
    "    Gc_d=[]\n",
    "    for i in range(0,len(C)):\n",
    "        deg=pd.Series(C.degree())\n",
    "        gc = max(nx.connected_component_subgraphs(C), key=len)\n",
    "        Gc_d.append(len(gc))\n",
    "        #removal\n",
    "        deg.sort(ascending=False)\n",
    "        target=deg.index[0] #this is the index of the node that has to be removed\n",
    "        C.remove_node(target)\n",
    "    return Gc_d"
   ]
  },
  {
   "cell_type": "code",
   "execution_count": 15,
   "metadata": {
    "jupyter": {
     "outputs_hidden": true
    }
   },
   "outputs": [],
   "source": [
    "#degrees robustness\n",
    "def degree_robust_remove(G):\n",
    "    G = G.copy()\n",
    "    Gc_d = []\n",
    "    removed = []\n",
    "    for i in range(0, len(G)):\n",
    "        node_deg = list(G.degree().items())\n",
    "        gc = max(nx.connected_component_subgraphs(G), key=len)\n",
    "        Gc_d.append(len(gc))\n",
    "        target = max(node_deg, key=lambda x: x[1])[0]\n",
    "        G.remove_node(target)\n",
    "        removed.append(target)\n",
    "    return Gc_d, removed"
   ]
  },
  {
   "cell_type": "code",
   "execution_count": 16,
   "metadata": {
    "jupyter": {
     "outputs_hidden": true
    }
   },
   "outputs": [
    {
     "ename": "AttributeError",
     "evalue": "'DegreeView' object has no attribute 'items'",
     "output_type": "error",
     "traceback": [
      "\u001b[0;31m---------------------------------------------------------------------------\u001b[0m",
      "\u001b[0;31mAttributeError\u001b[0m                            Traceback (most recent call last)",
      "Cell \u001b[0;32mIn[16], line 1\u001b[0m\n\u001b[0;32m----> 1\u001b[0m _, removed \u001b[38;5;241m=\u001b[39m degree_robust_remove(G)\n",
      "Cell \u001b[0;32mIn[15], line 7\u001b[0m, in \u001b[0;36mdegree_robust_remove\u001b[0;34m(G)\u001b[0m\n\u001b[1;32m      5\u001b[0m removed \u001b[38;5;241m=\u001b[39m []\n\u001b[1;32m      6\u001b[0m \u001b[38;5;28;01mfor\u001b[39;00m i \u001b[38;5;129;01min\u001b[39;00m \u001b[38;5;28mrange\u001b[39m(\u001b[38;5;241m0\u001b[39m, \u001b[38;5;28mlen\u001b[39m(G)):\n\u001b[0;32m----> 7\u001b[0m     node_deg \u001b[38;5;241m=\u001b[39m \u001b[38;5;28mlist\u001b[39m(G\u001b[38;5;241m.\u001b[39mdegree()\u001b[38;5;241m.\u001b[39mitems())\n\u001b[1;32m      8\u001b[0m     gc \u001b[38;5;241m=\u001b[39m \u001b[38;5;28mmax\u001b[39m(nx\u001b[38;5;241m.\u001b[39mconnected_component_subgraphs(G), key\u001b[38;5;241m=\u001b[39m\u001b[38;5;28mlen\u001b[39m)\n\u001b[1;32m      9\u001b[0m     Gc_d\u001b[38;5;241m.\u001b[39mappend(\u001b[38;5;28mlen\u001b[39m(gc))\n",
      "\u001b[0;31mAttributeError\u001b[0m: 'DegreeView' object has no attribute 'items'"
     ]
    }
   ],
   "source": [
    "_, removed = degree_robust_remove(G) "
   ]
  },
  {
   "cell_type": "code",
   "execution_count": 17,
   "metadata": {},
   "outputs": [
    {
     "ename": "AttributeError",
     "evalue": "module 'networkx' has no attribute 'connected_component_subgraphs'",
     "output_type": "error",
     "traceback": [
      "\u001b[0;31m---------------------------------------------------------------------------\u001b[0m",
      "\u001b[0;31mAttributeError\u001b[0m                            Traceback (most recent call last)",
      "Cell \u001b[0;32mIn[17], line 1\u001b[0m\n\u001b[0;32m----> 1\u001b[0m Gc_d\u001b[38;5;241m=\u001b[39mdegree_robust(G)\n\u001b[1;32m      2\u001b[0m Gc_d\n",
      "Cell \u001b[0;32mIn[14], line 7\u001b[0m, in \u001b[0;36mdegree_robust\u001b[0;34m(C)\u001b[0m\n\u001b[1;32m      5\u001b[0m \u001b[38;5;28;01mfor\u001b[39;00m i \u001b[38;5;129;01min\u001b[39;00m \u001b[38;5;28mrange\u001b[39m(\u001b[38;5;241m0\u001b[39m,\u001b[38;5;28mlen\u001b[39m(C)):\n\u001b[1;32m      6\u001b[0m     deg\u001b[38;5;241m=\u001b[39mpd\u001b[38;5;241m.\u001b[39mSeries(C\u001b[38;5;241m.\u001b[39mdegree())\n\u001b[0;32m----> 7\u001b[0m     gc \u001b[38;5;241m=\u001b[39m \u001b[38;5;28mmax\u001b[39m(nx\u001b[38;5;241m.\u001b[39mconnected_component_subgraphs(C), key\u001b[38;5;241m=\u001b[39m\u001b[38;5;28mlen\u001b[39m)\n\u001b[1;32m      8\u001b[0m     Gc_d\u001b[38;5;241m.\u001b[39mappend(\u001b[38;5;28mlen\u001b[39m(gc))\n\u001b[1;32m      9\u001b[0m     \u001b[38;5;66;03m#removal\u001b[39;00m\n",
      "\u001b[0;31mAttributeError\u001b[0m: module 'networkx' has no attribute 'connected_component_subgraphs'"
     ]
    }
   ],
   "source": [
    "Gc_d=degree_robust(G)\n",
    "Gc_d"
   ]
  },
  {
   "cell_type": "code",
   "execution_count": 18,
   "metadata": {
    "jupyter": {
     "outputs_hidden": true
    }
   },
   "outputs": [],
   "source": [
    "def degree_robust_rand(R):\n",
    "    Gc_dr=[]\n",
    "    R=G.copy()\n",
    "    for i in range (0,len(R)):\n",
    "        deg=pd.Series(R.degree())\n",
    "        gc = max(nx.connected_component_subgraphs(R), key=len)\n",
    "        Gc_dr.append(len(gc))\n",
    "    #removal\n",
    "        a=random.sample(range(0, len(deg)), 1)\n",
    "        a=int(a[0])\n",
    "        target=deg.index[a] #this is the index of the node that has to be removed\n",
    "        R.remove_node(target)\n",
    "    return Gc_dr"
   ]
  },
  {
   "cell_type": "code",
   "execution_count": 19,
   "metadata": {
    "jupyter": {
     "outputs_hidden": true
    }
   },
   "outputs": [
    {
     "ename": "AttributeError",
     "evalue": "module 'networkx' has no attribute 'connected_component_subgraphs'",
     "output_type": "error",
     "traceback": [
      "\u001b[0;31m---------------------------------------------------------------------------\u001b[0m",
      "\u001b[0;31mAttributeError\u001b[0m                            Traceback (most recent call last)",
      "Cell \u001b[0;32mIn[19], line 1\u001b[0m\n\u001b[0;32m----> 1\u001b[0m Gc_dr\u001b[38;5;241m=\u001b[39mdegree_robust_rand(G)\n",
      "Cell \u001b[0;32mIn[18], line 6\u001b[0m, in \u001b[0;36mdegree_robust_rand\u001b[0;34m(R)\u001b[0m\n\u001b[1;32m      4\u001b[0m \u001b[38;5;28;01mfor\u001b[39;00m i \u001b[38;5;129;01min\u001b[39;00m \u001b[38;5;28mrange\u001b[39m (\u001b[38;5;241m0\u001b[39m,\u001b[38;5;28mlen\u001b[39m(R)):\n\u001b[1;32m      5\u001b[0m     deg\u001b[38;5;241m=\u001b[39mpd\u001b[38;5;241m.\u001b[39mSeries(R\u001b[38;5;241m.\u001b[39mdegree())\n\u001b[0;32m----> 6\u001b[0m     gc \u001b[38;5;241m=\u001b[39m \u001b[38;5;28mmax\u001b[39m(nx\u001b[38;5;241m.\u001b[39mconnected_component_subgraphs(R), key\u001b[38;5;241m=\u001b[39m\u001b[38;5;28mlen\u001b[39m)\n\u001b[1;32m      7\u001b[0m     Gc_dr\u001b[38;5;241m.\u001b[39mappend(\u001b[38;5;28mlen\u001b[39m(gc))\n\u001b[1;32m      8\u001b[0m \u001b[38;5;66;03m#removal\u001b[39;00m\n",
      "\u001b[0;31mAttributeError\u001b[0m: module 'networkx' has no attribute 'connected_component_subgraphs'"
     ]
    }
   ],
   "source": [
    "Gc_dr=degree_robust_rand(G)"
   ]
  },
  {
   "cell_type": "code",
   "execution_count": 20,
   "metadata": {},
   "outputs": [
    {
     "ename": "NameError",
     "evalue": "name 'Gc_d' is not defined",
     "output_type": "error",
     "traceback": [
      "\u001b[0;31m---------------------------------------------------------------------------\u001b[0m",
      "\u001b[0;31mNameError\u001b[0m                                 Traceback (most recent call last)",
      "Cell \u001b[0;32mIn[20], line 2\u001b[0m\n\u001b[1;32m      1\u001b[0m \u001b[38;5;66;03m#ploting the robustness graph for targeted  and random attack based on degree\u001b[39;00m\n\u001b[0;32m----> 2\u001b[0m plt\u001b[38;5;241m.\u001b[39mplot(Gc_d, label\u001b[38;5;241m=\u001b[39m\u001b[38;5;124m\"\u001b[39m\u001b[38;5;124mDegree\u001b[39m\u001b[38;5;124m\"\u001b[39m) \n\u001b[1;32m      3\u001b[0m plt\u001b[38;5;241m.\u001b[39mplot(Gc_dr, label\u001b[38;5;241m=\u001b[39m\u001b[38;5;124m\"\u001b[39m\u001b[38;5;124mRandom\u001b[39m\u001b[38;5;124m\"\u001b[39m) \n\u001b[1;32m      4\u001b[0m plt\u001b[38;5;241m.\u001b[39mxlabel(\u001b[38;5;124m\"\u001b[39m\u001b[38;5;124mNumber of nodes removed\u001b[39m\u001b[38;5;124m\"\u001b[39m) \n",
      "\u001b[0;31mNameError\u001b[0m: name 'Gc_d' is not defined"
     ]
    }
   ],
   "source": [
    "#ploting the robustness graph for targeted  and random attack based on degree\n",
    "plt.plot(Gc_d, label=\"Degree\") \n",
    "plt.plot(Gc_dr, label=\"Random\") \n",
    "plt.xlabel(\"Number of nodes removed\") \n",
    "plt.ylabel(\"Size of the Giant Component\")\n",
    "plt.title(\"Robustness for a Airline Network-Degree\") \n",
    "plt.legend()"
   ]
  },
  {
   "cell_type": "code",
   "execution_count": 75,
   "metadata": {
    "collapsed": true,
    "jupyter": {
     "outputs_hidden": true
    }
   },
   "outputs": [],
   "source": [
    "#degree preserving ramdomization\n",
    "G_pre=G.copy()\n",
    "G_preserving=nx.double_edge_swap(G_pre, nswap=1, max_tries=100)"
   ]
  },
  {
   "cell_type": "code",
   "execution_count": 76,
   "metadata": {},
   "outputs": [
    {
     "name": "stderr",
     "output_type": "stream",
     "text": [
      "C:\\Anaconda2\\lib\\site-packages\\ipykernel\\__main__.py:10: FutureWarning: sort is deprecated, use sort_values(inplace=True) for INPLACE sorting\n"
     ]
    }
   ],
   "source": [
    "#doing robustness analysis for degree preserving randomizations\n",
    "Gc_pre=degree_robust(G_preserving)"
   ]
  },
  {
   "cell_type": "code",
   "execution_count": 77,
   "metadata": {},
   "outputs": [
    {
     "data": {
      "text/plain": [
       "<matplotlib.legend.Legend at 0x11ff3e10>"
      ]
     },
     "execution_count": 77,
     "metadata": {},
     "output_type": "execute_result"
    },
    {
     "data": {
      "image/png": "[encoded data removed]",
      "text/plain": [
       "<matplotlib.figure.Figure at 0x1109bd68>"
      ]
     },
     "metadata": {},
     "output_type": "display_data"
    }
   ],
   "source": [
    "#ploting the robustness graph for targeted  and random attack based on degree\n",
    "plt.plot(Gc_d, 'r+', label=\"Actual\") \n",
    "plt.plot(Gc_pre, 'b--', label=\"Random\") \n",
    "plt.xlabel(\"Number of nodes removed\") \n",
    "plt.ylabel(\"Size of the Giant Component\")\n",
    "plt.title(\"Robustness for a Airline Network-Degree preserving randomization\") \n",
    "plt.legend()"
   ]
  },
  {
   "cell_type": "code",
   "execution_count": 88,
   "metadata": {},
   "outputs": [
    {
     "name": "stdout",
     "output_type": "stream",
     "text": [
      "average degree of GNM : 74.9817893903\n"
     ]
    }
   ],
   "source": [
    "#generating GNM graph\n",
    "G_gnm_c=G.copy()\n",
    "G_gnm=nx.gnm_random_graph(len(G_gnm_c), G.number_of_edges(), seed=23, directed=False)\n",
    "averagedegree_gnm=G_gnm.size()*2/len(G_gnm)\n",
    "print \"average degree of GNM :\", averagedegree_gnm"
   ]
  },
  {
   "cell_type": "code",
   "execution_count": 79,
   "metadata": {},
   "outputs": [
    {
     "name": "stderr",
     "output_type": "stream",
     "text": [
      "C:\\Anaconda2\\lib\\site-packages\\ipykernel\\__main__.py:10: FutureWarning: sort is deprecated, use sort_values(inplace=True) for INPLACE sorting\n"
     ]
    }
   ],
   "source": [
    "G_gnm1=G_gnm.copy()\n",
    "Gc_gnm_d=degree_robust(G_gnm1)"
   ]
  },
  {
   "cell_type": "code",
   "execution_count": 80,
   "metadata": {
    "scrolled": true
   },
   "outputs": [
    {
     "data": {
      "text/plain": [
       "<matplotlib.legend.Legend at 0x1f98bc18>"
      ]
     },
     "execution_count": 80,
     "metadata": {},
     "output_type": "execute_result"
    },
    {
     "data": {
      "image/png": "[encoded data removed]",
      "text/plain": [
       "<matplotlib.figure.Figure at 0x1641d8d0>"
      ]
     },
     "metadata": {},
     "output_type": "display_data"
    }
   ],
   "source": [
    "#ploting the robustness graph for targeted  and random attack based on degree\n",
    "#plt.plot(Gc_gnm_d, label=\"Actual\") \n",
    "plt.plot(Gc_gnm_d, label=\"Targert\") \n",
    "plt.xlabel(\"Number of nodes removed\") \n",
    "plt.ylabel(\"Size of the Giant Component\")\n",
    "plt.title(\"Robustness for an equivalent random GNM (keeping nodes and edges constant)\") \n",
    "plt.legend()"
   ]
  },
  {
   "cell_type": "code",
   "execution_count": 81,
   "metadata": {},
   "outputs": [
    {
     "data": {
      "image/png": "[encoded data removed]",
      "text/plain": [
       "<matplotlib.figure.Figure at 0x1cc20eb8>"
      ]
     },
     "metadata": {},
     "output_type": "display_data"
    }
   ],
   "source": [
    "#ploting degree distribution of GNM model\n",
    "\n",
    "degrees_rand= list(G_gnm.degree().values())\n",
    "kmin = min(degrees_rand)\n",
    "kmax = max(degrees_rand)\n",
    "bin_edges = np.logspace(np.log10(kmin), np.log10(kmax), num=10)\n",
    "density_rand, bins = np.histogram(degrees_rand, bins=bin_edges, density=True)\n",
    "fig2 = plt.figure(figsize=(6,4))\n",
    "log_be = np.log10(bin_edges)\n",
    "x1 = 10**((log_be[1:] + log_be[:-1])/2)\n",
    "plt.loglog(x1, density_rand, 'r', label='Computer generated') \n",
    "plt.xlabel(r\"degree $k$\", fontsize=16)\n",
    "plt.ylabel(r\"$P(k)$\", fontsize=16)\n",
    "ax = plt.gca()\n",
    "ax.spines['right'].set_visible(False)\n",
    "ax.spines['top'].set_visible(False)\n",
    "ax.yaxis.set_ticks_position('left')\n",
    "ax.xaxis.set_ticks_position('bottom')\n",
    "#fit1.power_law.plot_pdf(ax=ax, label='Power law fit',color='r', marker='+')\n",
    "plt.legend(bbox_to_anchor=(1.05, 1), loc=2, borderaxespad=0.)\n",
    "plt.title('Degree distribution \\n',fontsize=16)\n",
    "plt.show()"
   ]
  },
  {
   "cell_type": "code",
   "execution_count": 39,
   "metadata": {},
   "outputs": [
    {
     "data": {
      "image/png": "[encoded data removed]",
      "text/plain": [
       "<matplotlib.figure.Figure at 0x12018630>"
      ]
     },
     "metadata": {},
     "output_type": "display_data"
    }
   ],
   "source": [
    "degrees_rand= list(G_gnm.degree().values())\n",
    "kmin = min(degrees_rand)\n",
    "kmax = max(degrees_rand)\n",
    "bin_edges = np.linspace(kmin,kmax, num=50)\n",
    "density_rand, bins = np.histogram(degrees_rand, bins=bin_edges, density=True)\n",
    "fig2 = plt.figure(figsize=(6,4))\n",
    "log_be = np.log10(bin_edges)\n",
    "x1 = 10**((log_be[1:] + log_be[:-1])/2)\n",
    "\n",
    "plt.plot(x1, density_rand, 'r--', label='Computer generated') \n",
    "plt.xlabel(r\"degree $k$\", fontsize=16)\n",
    "plt.ylabel(r\"$P(k)$\", fontsize=16)\n",
    "ax = plt.gca()\n",
    "ax.spines['right'].set_visible(False)\n",
    "ax.spines['top'].set_visible(False)\n",
    "ax.yaxis.set_ticks_position('left')\n",
    "ax.xaxis.set_ticks_position('bottom')\n",
    "#fit1.power_law.plot_pdf(ax=ax, label='Power law fit',color='r', marker='+')\n",
    "plt.legend(bbox_to_anchor=(1.05, 1), loc=2, borderaxespad=0.)\n",
    "plt.title('Degree distribution \\n',fontsize=16)\n",
    "plt.show()\n",
    "\n",
    "\n",
    "#degree_airport_gnm"
   ]
  },
  {
   "cell_type": "code",
   "execution_count": 82,
   "metadata": {
    "collapsed": true,
    "jupyter": {
     "outputs_hidden": true
    }
   },
   "outputs": [],
   "source": [
    "#calculating clustering distribution\n",
    "P=G.copy()\n",
    "cls=[]\n",
    "deg_cl=[]\n",
    "\n",
    "for i in range(0,len(P)):\n",
    "    a=nx.clustering(P,nodes= nodes[i],weight=None)\n",
    "    cls.append(a)\n",
    "    d=P.degree(nodes[i])\n",
    "    deg_cl.append(d)"
   ]
  },
  {
   "cell_type": "code",
   "execution_count": 83,
   "metadata": {},
   "outputs": [
    {
     "data": {
      "text/plain": [
       "<matplotlib.text.Text at 0x1c6c3b70>"
      ]
     },
     "execution_count": 83,
     "metadata": {},
     "output_type": "execute_result"
    },
    {
     "data": {
      "image/png": "[encoded data removed]",
      "text/plain": [
       "<matplotlib.figure.Figure at 0x15bbaa90>"
      ]
     },
     "metadata": {},
     "output_type": "display_data"
    }
   ],
   "source": [
    "plt.scatter(deg_cl, cls)\n",
    "plt.xlabel(\"Degree\") \n",
    "plt.ylabel(\"Clustering Coefficient\")\n",
    "plt.title(\"C(k)\") \n",
    "#plt.legend()"
   ]
  },
  {
   "cell_type": "code",
   "execution_count": 93,
   "metadata": {},
   "outputs": [
    {
     "data": {
      "text/plain": [
       "<matplotlib.text.Text at 0x17e39f60>"
      ]
     },
     "execution_count": 93,
     "metadata": {},
     "output_type": "execute_result"
    },
    {
     "data": {
      "image/png": "[encoded data removed]",
      "text/plain": [
       "<matplotlib.figure.Figure at 0x1a166d68>"
      ]
     },
     "metadata": {},
     "output_type": "display_data"
    }
   ],
   "source": [
    "#calculating clustering distribution of random graph\n",
    "Crand=G_gnm.copy()\n",
    "cls=[]\n",
    "deg_cl=[]\n",
    "\n",
    "for i in range(0,len(Crand)):\n",
    "    a=nx.clustering(Crand,nodes= i,weight=None)\n",
    "    cls.append(a)\n",
    "    d=Crand.degree(i)\n",
    "    deg_cl.append(d)\n",
    "\n",
    "plt.scatter(deg_cl, cls)\n",
    "plt.xlabel(\"Degree\") \n",
    "plt.ylabel(\"Clustering Coefficient\")\n",
    "plt.title(\"C(k) - Random GNM model\") \n",
    "#plt.legend()"
   ]
  },
  {
   "cell_type": "markdown",
   "metadata": {},
   "source": [
    "#making the refined Graph\n",
    "remove_nodes = genfromtxt('cn_remove_nodes.csv', delimiter=',',dtype=str)"
   ]
  },
  {
   "cell_type": "code",
   "execution_count": 125,
   "metadata": {
    "collapsed": true,
    "jupyter": {
     "outputs_hidden": true
    }
   },
   "outputs": [],
   "source": [
    "#making the refined Graph \n",
    "remove_nodes = genfromtxt('cn_remove_nodes.csv', delimiter=',',dtype=str)\n",
    "rem_nodes=remove_nodes[1:]"
   ]
  },
  {
   "cell_type": "code",
   "execution_count": 126,
   "metadata": {},
   "outputs": [
    {
     "name": "stdout",
     "output_type": "stream",
     "text": [
      "462\n"
     ]
    },
    {
     "data": {
      "text/plain": [
       "35796"
      ]
     },
     "execution_count": 126,
     "metadata": {},
     "output_type": "execute_result"
    }
   ],
   "source": [
    "Ref_G=G.copy()\n",
    "Ref_G.remove_nodes_from(remove_nodes)\n",
    "print len(Ref_G)    \n",
    "Ref_G.size()"
   ]
  },
  {
   "cell_type": "code",
   "execution_count": 96,
   "metadata": {
    "collapsed": true,
    "jupyter": {
     "outputs_hidden": true
    }
   },
   "outputs": [],
   "source": [
    "nx.write_edgelist(Ref_G, \"edgelist2.txt\", data=['weight'])"
   ]
  },
  {
   "cell_type": "code",
   "execution_count": 97,
   "metadata": {
    "collapsed": true,
    "jupyter": {
     "outputs_hidden": true
    }
   },
   "outputs": [],
   "source": [
    "#[G.degree(node) for node in nodes]"
   ]
  },
  {
   "cell_type": "code",
   "execution_count": 98,
   "metadata": {},
   "outputs": [
    {
     "data": {
      "image/png": "[encoded data removed]",
      "text/plain": [
       "<matplotlib.figure.Figure at 0x16dee278>"
      ]
     },
     "metadata": {},
     "output_type": "display_data"
    }
   ],
   "source": [
    "#Weight distribution\n",
    "weight_new = [int(x) for x in weight]\n",
    "\n",
    "#copying in the same code\n",
    "degrees1 = list(weight_new)\n",
    "kmin = min(degrees1)\n",
    "kmax = max(degrees1)\n",
    "bin_edges = np.logspace(np.log10(kmin), np.log10(kmax), num=10)\n",
    "density1, bins = np.histogram(degrees1, bins=bin_edges, density=True)\n",
    "fig1 = plt.figure(figsize=(6,4))\n",
    "log_be = np.log10(bin_edges)\n",
    "x1 = 10**((log_be[1:] + log_be[:-1])/2)\n",
    "plt.loglog(x1, density1, 'r--', label='Actual') \n",
    "plt.xlabel(r\"weight $k$\", fontsize=16)\n",
    "plt.ylabel(r\"$P(w)$\", fontsize=16)\n",
    "ax = plt.gca()\n",
    "ax.spines['right'].set_visible(False)\n",
    "ax.spines['top'].set_visible(False)\n",
    "ax.yaxis.set_ticks_position('left')\n",
    "ax.xaxis.set_ticks_position('bottom')\n",
    "#fit1.power_law.plot_pdf(ax=ax, label='Power law fit',color='r', marker='+')\n",
    "plt.legend(bbox_to_anchor=(1.05, 1), loc=2, borderaxespad=0.)\n",
    "plt.title('Weight distribution \\n',fontsize=16)\n",
    "plt.show()"
   ]
  },
  {
   "cell_type": "code",
   "execution_count": null,
   "metadata": {
    "collapsed": true,
    "jupyter": {
     "outputs_hidden": true
    }
   },
   "outputs": [],
   "source": []
  }
 ],
 "metadata": {
  "kernelspec": {
   "display_name": "Python 3 (ipykernel)",
   "language": "python",
   "name": "python3"
  },
  "language_info": {
   "codemirror_mode": {
    "name": "ipython",
    "version": 3
   },
   "file_extension": ".py",
   "mimetype": "text/x-python",
   "name": "python",
   "nbconvert_exporter": "python",
   "pygments_lexer": "ipython3",
   "version": "3.11.4"
  }
 },
 "nbformat": 4,
 "nbformat_minor": 4
}
