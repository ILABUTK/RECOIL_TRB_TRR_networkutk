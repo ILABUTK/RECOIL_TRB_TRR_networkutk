{
 "cells": [
  {
   "cell_type": "raw",
   "metadata": {
    "jupyter": {
     "outputs_hidden": true
    }
   },
   "source": [
    "import pandas as pd\n",
    "\n",
    "\n",
    "file_path = '/Users/maedehrahimitouranposhti/Downloads/research/new_intermodal_data-2 (2).csv'  # replace with your actual file path\n",
    "data = pd.read_csv(file_path)\n",
    "\n",
    "# Filter the rows where the 'mode' column is 'Rail'\n",
    "filtered_data = data[data['dms_mode'] == 'Rail']\n",
    "\n",
    "\n",
    "output_file_path = '/Users/maedehrahimitouranposhti/Downloads/research/railonly.csv'  # replace with your desired output file path\n",
    "filtered_data.to_csv(output_file_path, index=False)\n",
    "\n",
    "print(f\"Filtered data saved to {output_file_path}\")\n"
   ]
  },
  {
   "cell_type": "code",
   "execution_count": 5,
   "metadata": {},
   "outputs": [],
   "source": [
    "import numpy as np\n",
    "import networkx as nx\n",
    "import matplotlib.pyplot as plt\n",
    "import matplotlib as mpl\n",
    "%matplotlib inline\n",
    "from __future__ import division\n",
    "import csv\n",
    "import math\n",
    "import powerlaw\n",
    "from numpy import genfromtxt\n",
    "import random\n",
    "import pandas as pd"
   ]
  },
  {
   "cell_type": "code",
   "execution_count": 6,
   "metadata": {
    "tags": []
   },
   "outputs": [],
   "source": [
    "import pandas as pd\n",
    "\n",
    "\n",
    "railonly_file_path = 'railonly.csv'\n",
    "data = pd.read_csv(railonly_file_path)\n",
    "\n",
    "\n",
    "filtered_data = data[data['dms_mode'] == 'Rail']\n",
    "\n",
    "# Prepare the edges data\n",
    "edges = filtered_data[['dms_orig_string', 'dms_dest_string', 'distance_miles']].copy()\n",
    "edges['Id'] = range(1, len(edges) + 1)\n",
    "\n",
    "# Prepare the nodes data\n",
    "nodes = pd.concat([filtered_data[['dms_orig_string']], filtered_data[['dms_dest_string']]], ignore_index=True)\n",
    "nodes = nodes.drop_duplicates().reset_index(drop=True)\n"
   ]
  },
  {
   "cell_type": "code",
   "execution_count": 7,
   "metadata": {
    "tags": []
   },
   "outputs": [
    {
     "name": "stdout",
     "output_type": "stream",
     "text": [
      "Calculating best minimal value for power law fit\n",
      "xmin progress: 97%\r"
     ]
    },
    {
     "data": {
      "image/png": "[encoded data removed]",
      "text/plain": [
       "<Figure size 432x288 with 1 Axes>"
      ]
     },
     "metadata": {
      "needs_background": "light"
     },
     "output_type": "display_data"
    }
   ],
   "source": [
    "\n",
    "edges_file_path = 'railonly.csv'  # Replace with the path to your filtered edges file\n",
    "edges = pd.read_csv(edges_file_path)\n",
    "\n",
    "# NetworkX\n",
    "G = nx.Graph()\n",
    "edges_array = edges[['dms_orig_string', 'dms_dest_string', 'distance_miles']].values\n",
    "G.add_weighted_edges_from(edges_array)\n",
    "\n",
    "#Compute the degree distribution\n",
    "degrees1 = [d for n, d in G.degree()]\n",
    "kmin = min(degrees1)\n",
    "kmax = max(degrees1)\n",
    "\n",
    "# Fit the degree distribution to a power law\n",
    "fit1 = powerlaw.Fit(degrees1)\n",
    "gamma1 = fit1.power_law.alpha\n",
    "\n",
    "# Calculate the histogram for the degree distribution\n",
    "bin_edges = np.logspace(np.log10(kmin), np.log10(kmax), num=10)\n",
    "density1, bins = np.histogram(degrees1, bins=bin_edges, density=True)\n",
    "\n",
    "\n",
    "fig1 = plt.figure(figsize=(6, 4))\n",
    "log_be = np.log10(bin_edges)\n",
    "x1 = 10**((log_be[1:] + log_be[:-1]) / 2)\n",
    "plt.loglog(x1, density1, 'r--', label='Actual') \n",
    "plt.xlabel(r\"degree $k$\", fontsize=16)\n",
    "plt.ylabel(r\"$P(k)$\", fontsize=16)\n",
    "ax = plt.gca()\n",
    "ax.spines['right'].set_visible(False)\n",
    "ax.spines['top'].set_visible(False)\n",
    "ax.yaxis.set_ticks_position('left')\n",
    "ax.xaxis.set_ticks_position('bottom')\n",
    "fit1.power_law.plot_pdf(ax=ax, label='Power law fit', color='r', marker='+')\n",
    "plt.legend(bbox_to_anchor=(1.05, 1), loc=2, borderaxespad=0.)\n",
    "plt.title('Degree distribution \\n', fontsize=16)\n",
    "plt.show()\n"
   ]
  },
  {
   "cell_type": "code",
   "execution_count": 8,
   "metadata": {},
   "outputs": [
    {
     "name": "stdout",
     "output_type": "stream",
     "text": [
      "Requirement already satisfied: pandas in /Users/ud4/opt/anaconda3/envs/pyces/lib/python3.9/site-packages (1.3.3)\n",
      "Requirement already satisfied: networkx in /Users/ud4/opt/anaconda3/envs/pyces/lib/python3.9/site-packages (2.8.6)\n",
      "Requirement already satisfied: numpy>=1.17.3 in /Users/ud4/opt/anaconda3/envs/pyces/lib/python3.9/site-packages (from pandas) (1.21.1)\n",
      "Requirement already satisfied: python-dateutil>=2.7.3 in /Users/ud4/opt/anaconda3/envs/pyces/lib/python3.9/site-packages (from pandas) (2.8.2)\n",
      "Requirement already satisfied: pytz>=2017.3 in /Users/ud4/opt/anaconda3/envs/pyces/lib/python3.9/site-packages (from pandas) (2021.1)\n",
      "Requirement already satisfied: six>=1.5 in /Users/ud4/opt/anaconda3/envs/pyces/lib/python3.9/site-packages (from python-dateutil>=2.7.3->pandas) (1.16.0)\n",
      "Note: you may need to restart the kernel to use updated packages.\n"
     ]
    }
   ],
   "source": [
    "pip install pandas networkx"
   ]
  },
  {
   "cell_type": "code",
   "execution_count": 11,
   "metadata": {},
   "outputs": [
    {
     "data": {
      "image/png": "[encoded data removed]",
      "text/plain": [
       "<Figure size 720x432 with 1 Axes>"
      ]
     },
     "metadata": {
      "needs_background": "light"
     },
     "output_type": "display_data"
    }
   ],
   "source": [
    "\n",
    "edges_file_path = 'railonly.csv'  # Replace with the path to your filtered edges file\n",
    "edges = pd.read_csv(edges_file_path)\n",
    "\n",
    "# Construct the graph using NetworkX\n",
    "G = nx.Graph()\n",
    "edges_array = edges[['dms_orig_string', 'dms_dest_string', 'distance_miles']].values\n",
    "G.add_weighted_edges_from(edges_array)\n",
    "\n",
    "# Calculate the degrees of each node\n",
    "node_degrees = dict(G.degree())\n",
    "\n",
    "# Prepare the nodes data\n",
    "orig_nodes = edges[['dms_orig_string']].rename(columns={'dms_orig_string': 'Node'})\n",
    "dest_nodes = edges[['dms_dest_string']].rename(columns={'dms_dest_string': 'Node'})\n",
    "nodes = pd.concat([orig_nodes, dest_nodes], ignore_index=True).drop_duplicates().reset_index(drop=True)\n",
    "\n",
    "# Add degree information to nodes\n",
    "degree_airport = nodes['Node'].map(node_degrees).fillna(0)\n",
    "degree_airport_t = np.array(degree_airport).reshape(-1, 1)\n",
    "\n",
    "# Prepare the update array\n",
    "nodes_t = np.array(nodes).reshape(-1, 1)\n",
    "update = np.hstack((nodes_t, degree_airport_t))\n",
    "\n",
    "\n",
    "df = pd.DataFrame(update, columns=['Node', 'Degree'])\n",
    "\n",
    "\n",
    "save = 'yes'\n",
    "if save == 'yes':\n",
    "    df.to_csv('update.csv', header=True, index=False, sep=',')\n",
    "\n",
    "# Plot the node degrees\n",
    "plt.figure(figsize=(10, 6))\n",
    "plt.hist(degree_airport, bins=35, edgecolor='black', alpha=0.7)\n",
    "plt.xlabel('Degree')\n",
    "plt.ylabel('Number of Nodes')\n",
    "plt.title('Node Degree Distribution')\n",
    "plt.grid(True)\n",
    "plt.show()\n"
   ]
  },
  {
   "cell_type": "code",
   "execution_count": 12,
   "metadata": {},
   "outputs": [
    {
     "name": "stdout",
     "output_type": "stream",
     "text": [
      "average degree:  20.19047619047619\n"
     ]
    }
   ],
   "source": [
    "#average degree\n",
    "averagedegree=G.size()*2/len(G)\n",
    "print (\"average degree: \",averagedegree)\n",
    "#G.nodes()"
   ]
  },
  {
   "cell_type": "code",
   "execution_count": 13,
   "metadata": {},
   "outputs": [
    {
     "name": "stdout",
     "output_type": "stream",
     "text": [
      "average clustering coeff:  0.5318624303119969\n"
     ]
    }
   ],
   "source": [
    "#average clustering\n",
    "cluster1=nx.average_clustering(G)\n",
    "print (\"average clustering coeff: \", cluster1)"
   ]
  },
  {
   "cell_type": "code",
   "execution_count": 14,
   "metadata": {},
   "outputs": [
    {
     "name": "stdout",
     "output_type": "stream",
     "text": [
      "diameter of the graph : 4\n"
     ]
    }
   ],
   "source": [
    "#diameter of the Graph\n",
    "diameter=nx.diameter(G)\n",
    "print (\"diameter of the graph :\",diameter )"
   ]
  },
  {
   "cell_type": "code",
   "execution_count": 15,
   "metadata": {},
   "outputs": [
    {
     "name": "stdout",
     "output_type": "stream",
     "text": [
      "average shortest path length:  1.8519793459552496\n"
     ]
    }
   ],
   "source": [
    "#average shortest path length\n",
    "path_len_av=nx.average_shortest_path_length(G)\n",
    "print (\"average shortest path length: \", path_len_av)"
   ]
  },
  {
   "cell_type": "code",
   "execution_count": 16,
   "metadata": {
    "tags": []
   },
   "outputs": [],
   "source": [
    "#degrees robustness\n",
    "def degree_robust(C):\n",
    "    C=G.copy()\n",
    "    Gc_d=[]\n",
    "    for i in range(0,len(C)):\n",
    "        deg=pd.Series(C.degree())\n",
    "        gc = max(nx.connected_component_subgraphs(C), key=len)\n",
    "        Gc_d.append(len(gc))\n",
    "        #removal\n",
    "        deg.sort(ascending=False)\n",
    "        target=deg.index[0] #this is the index of the node that has to be removed\n",
    "        C.remove_node(target)\n",
    "    return Gc_d"
   ]
  },
  {
   "cell_type": "code",
   "execution_count": 17,
   "metadata": {
    "tags": []
   },
   "outputs": [],
   "source": [
    "#degrees robustness\n",
    "def degree_robust_remove(G):\n",
    "    G = G.copy()\n",
    "    Gc_d = []\n",
    "    removed = []\n",
    "    for i in range(0, len(G)):\n",
    "        node_deg = list(G.degree().items())\n",
    "        gc = max(nx.connected_component_subgraphs(G), key=len)\n",
    "        Gc_d.append(len(gc))\n",
    "        target = max(node_deg, key=lambda x: x[1])[0]\n",
    "        G.remove_node(target)\n",
    "        removed.append(target)\n",
    "    return Gc_d, removed"
   ]
  },
  {
   "cell_type": "code",
   "execution_count": 18,
   "metadata": {
    "tags": []
   },
   "outputs": [
    {
     "name": "stdout",
     "output_type": "stream",
     "text": [
      "Degree robustness (size of largest connected component after each removal): [84, 83, 82, 81, 80, 79, 78, 76, 74, 73, 72, 71, 70, 69, 68, 67, 66, 65, 64, 62, 61, 60, 59, 58, 57, 56, 55, 54, 53, 52, 51, 49, 48, 47, 44, 43, 38, 32, 26, 19, 10, 10, 5, 5, 5, 5, 5, 5, 5, 5, 3, 3, 3, 2, 2, 2, 2, 2, 2, 2, 2, 2, 2, 2, 2, 2, 2, 2, 2, 2, 2, 2, 2, 2, 2, 2, 2, 2, 2, 1, 1, 1, 1, 1]\n",
      "Nodes removed in order: ['Houston TX', 'Iowa', 'Chicago IL-IN-WI (IL Part)', 'Los Angeles CA', 'Baton Rouge LA', 'New Orleans LA-MS (LA Part)', 'Wyoming', 'Atlanta GA', 'Detroit MI', 'Fort Wayne IN', 'Cleveland OH', 'Minneapolis-St. Paul MN-WI (MN Part)', 'Beaumont TX', 'San Francisco CA', 'Philadelphia PA-NJ-DE-MD (PA Part)', 'Portland OR-WA (OR Part)', 'Tampa FL', 'Philadelphia PA-NJ-DE-MD (NJ Part)', 'Indianapolis IN', 'Baltimore MD', 'Salt Lake City UT', 'Chicago IL-IN-WI (IN Part)', 'Columbus OH', 'Birmingham AL', 'New York NY-NJ-CT-PA (NY Part)', 'Charleston SC', 'Memphis TN-MS-AR (TN Part)', 'New York NY-NJ-CT-PA (NJ Part)', 'Charlotte NC-SC (NC Part)', 'Omaha NE-IA (NE Part)', 'Pittsburgh PA-OH-WV (PA Part)', 'St. Louis MO-IL (MO Part)', 'Jacksonville FL-GA  CFS Area (FL Part)', 'Nashville TN', 'Richmond VA', 'Albany NY  CFS Area', 'Washington DC-VA-MD-WV (MD Part)', 'Cincinnati OH-KY-IN (OH Part)', 'Miami FL', 'Denver CO', 'New Mexico', 'Sacramento CA', 'Buffalo NY  CFS Area', 'Washington DC-VA-MD-WV (VA Part)', 'Kansas City MO-KS (KS Part)', 'Knoxville TN', 'Louisville KY-IN (KY Part)', 'Wichita KS', 'Phoenix AZ', 'Seattle WA', 'Milwaukee WI', 'Boston MA-RI-NH-CT (MA Part)', 'Philadelphia PA-NJ-DE-MD (DE Part)', 'Mobile AL', 'New York NY-NJ-CT-PA (PA Part)', 'Rochester NY', 'Vermont', 'San Diego CA', 'Austin TX', 'Raleigh-Durham NC', 'Cincinnati OH-KY-IN (KY Part)', 'Corpus Christi TX', 'El Paso TX-NM (TX Part)', 'Greenville SC', 'Kansas City MO-KS (MO Part)', 'San Antonio TX', 'Savannah GA', 'St. Louis MO-IL (IL Part)', 'Tulsa OK', 'Grand Rapids MI', 'Laredo TX', 'Virginia Beach-Norfolk VA-NC (VA Part)', 'Dayton OH', 'Oklahoma City OK', 'New York NY-NJ-CT-PA (CT Part)', 'Hartford CT', 'Portland OR-WA (WA Part)', 'Tucson AZ', 'Fresno CA', 'Washington DC-VA-MD-WV (DC Part)', 'Orlando FL', 'Boston MA-RI-NH-CT (NH Part)', 'Boston MA-RI-NH-CT (RI Part)', 'Las Vegas NV-AZ (NV Part)']\n"
     ]
    },
    {
     "data": {
      "image/png": "[encoded data removed]",
      "text/plain": [
       "<Figure size 720x432 with 1 Axes>"
      ]
     },
     "metadata": {
      "needs_background": "light"
     },
     "output_type": "display_data"
    }
   ],
   "source": [
    "# Degree robustness function\n",
    "def degree_robust_remove(G):\n",
    "    G = G.copy()\n",
    "    Gc_d = []\n",
    "    removed = []\n",
    "    for i in range(len(G)):\n",
    "        node_deg = list(G.degree())\n",
    "        if not node_deg:\n",
    "            break\n",
    "        gc = max(nx.connected_components(G), key=len)\n",
    "        Gc_d.append(len(gc))\n",
    "        target = max(node_deg, key=lambda x: x[1])[0]\n",
    "        G.remove_node(target)\n",
    "        removed.append(target)\n",
    "    return Gc_d, removed\n",
    "\n",
    "# Execute degree robustness analysis\n",
    "Gc_d, removed = degree_robust_remove(G)\n",
    "\n",
    "print(\"Degree robustness (size of largest connected component after each removal):\", Gc_d)\n",
    "print(\"Nodes removed in order:\", removed)\n",
    "\n",
    "\n",
    "plt.figure(figsize=(10, 6))\n",
    "plt.plot(Gc_d, marker='o', linestyle='-', color='b')\n",
    "plt.xlabel('Number of Nodes Removed')\n",
    "plt.ylabel('Size of Largest Connected Component')\n",
    "plt.title('Robustness Analysis: Size of Largest Connected Component vs. Nodes Removed')\n",
    "plt.grid(True)\n",
    "plt.show()"
   ]
  },
  {
   "cell_type": "code",
   "execution_count": 19,
   "metadata": {},
   "outputs": [
    {
     "name": "stdout",
     "output_type": "stream",
     "text": [
      "Degree robustness (size of largest connected component after each removal): [84, 83, 82, 81, 80, 79, 78, 76, 74, 73, 72, 71, 70, 69, 68, 67, 66, 65, 64, 62, 61, 60, 59, 58, 57, 56, 55, 54, 53, 52, 51, 49, 48, 47, 44, 43, 38, 32, 26, 19, 10, 10, 5, 5, 5, 5, 5, 5, 5, 5, 3, 3, 3, 2, 2, 2, 2, 2, 2, 2, 2, 2, 2, 2, 2, 2, 2, 2, 2, 2, 2, 2, 2, 2, 2, 2, 2, 2, 2, 1, 1, 1, 1, 1]\n",
      "Nodes removed in order: ['Houston TX', 'Iowa', 'Chicago IL-IN-WI (IL Part)', 'Los Angeles CA', 'Baton Rouge LA', 'New Orleans LA-MS (LA Part)', 'Wyoming', 'Atlanta GA', 'Detroit MI', 'Fort Wayne IN', 'Cleveland OH', 'Minneapolis-St. Paul MN-WI (MN Part)', 'Beaumont TX', 'San Francisco CA', 'Philadelphia PA-NJ-DE-MD (PA Part)', 'Portland OR-WA (OR Part)', 'Tampa FL', 'Philadelphia PA-NJ-DE-MD (NJ Part)', 'Indianapolis IN', 'Baltimore MD', 'Salt Lake City UT', 'Chicago IL-IN-WI (IN Part)', 'Columbus OH', 'Birmingham AL', 'New York NY-NJ-CT-PA (NY Part)', 'Charleston SC', 'Memphis TN-MS-AR (TN Part)', 'New York NY-NJ-CT-PA (NJ Part)', 'Charlotte NC-SC (NC Part)', 'Omaha NE-IA (NE Part)', 'Pittsburgh PA-OH-WV (PA Part)', 'St. Louis MO-IL (MO Part)', 'Jacksonville FL-GA  CFS Area (FL Part)', 'Nashville TN', 'Richmond VA', 'Albany NY  CFS Area', 'Washington DC-VA-MD-WV (MD Part)', 'Cincinnati OH-KY-IN (OH Part)', 'Miami FL', 'Denver CO', 'New Mexico', 'Sacramento CA', 'Buffalo NY  CFS Area', 'Washington DC-VA-MD-WV (VA Part)', 'Kansas City MO-KS (KS Part)', 'Knoxville TN', 'Louisville KY-IN (KY Part)', 'Wichita KS', 'Phoenix AZ', 'Seattle WA', 'Milwaukee WI', 'Boston MA-RI-NH-CT (MA Part)', 'Philadelphia PA-NJ-DE-MD (DE Part)', 'Mobile AL', 'New York NY-NJ-CT-PA (PA Part)', 'Rochester NY', 'Vermont', 'San Diego CA', 'Austin TX', 'Raleigh-Durham NC', 'Cincinnati OH-KY-IN (KY Part)', 'Corpus Christi TX', 'El Paso TX-NM (TX Part)', 'Greenville SC', 'Kansas City MO-KS (MO Part)', 'San Antonio TX', 'Savannah GA', 'St. Louis MO-IL (IL Part)', 'Tulsa OK', 'Grand Rapids MI', 'Laredo TX', 'Virginia Beach-Norfolk VA-NC (VA Part)', 'Dayton OH', 'Oklahoma City OK', 'New York NY-NJ-CT-PA (CT Part)', 'Hartford CT', 'Portland OR-WA (WA Part)', 'Tucson AZ', 'Fresno CA', 'Washington DC-VA-MD-WV (DC Part)', 'Orlando FL', 'Boston MA-RI-NH-CT (NH Part)', 'Boston MA-RI-NH-CT (RI Part)', 'Las Vegas NV-AZ (NV Part)']\n"
     ]
    },
    {
     "data": {
      "image/png": "[encoded data removed]",
      "text/plain": [
       "<Figure size 720x432 with 1 Axes>"
      ]
     },
     "metadata": {
      "needs_background": "light"
     },
     "output_type": "display_data"
    },
    {
     "name": "stdout",
     "output_type": "stream",
     "text": [
      "Random removal robustness (size of largest connected component after each removal): [84, 83, 82, 81, 80, 79, 77, 76, 75, 74, 73, 72, 71, 70, 69, 68, 67, 66, 65, 64, 63, 62, 61, 60, 59, 58, 57, 57, 56, 55, 54, 53, 52, 51, 50, 49, 48, 47, 46, 45, 44, 43, 42, 41, 40, 39, 38, 37, 36, 35, 34, 33, 32, 31, 30, 29, 28, 27, 25, 24, 23, 22, 20, 19, 18, 16, 15, 15, 14, 14, 13, 12, 11, 10, 9, 8, 7, 6, 4, 3, 1, 1, 1, 1]\n"
     ]
    },
    {
     "data": {
      "image/png": "[encoded data removed]",
      "text/plain": [
       "<Figure size 720x432 with 1 Axes>"
      ]
     },
     "metadata": {
      "needs_background": "light"
     },
     "output_type": "display_data"
    }
   ],
   "source": [
    "# Construct the graph using NetworkX\n",
    "G = nx.Graph()\n",
    "edges_array = edges[['dms_orig_string', 'dms_dest_string', 'distance_miles']].values\n",
    "G.add_weighted_edges_from(edges_array)\n",
    "\n",
    "# Degree robustness function\n",
    "def degree_robust_remove(G):\n",
    "    G = G.copy()\n",
    "    Gc_d = []\n",
    "    removed = []\n",
    "    for i in range(len(G)):\n",
    "        node_deg = list(G.degree())\n",
    "        if not node_deg:\n",
    "            break\n",
    "        gc = max(nx.connected_components(G), key=len)\n",
    "        Gc_d.append(len(gc))\n",
    "        target = max(node_deg, key=lambda x: x[1])[0]\n",
    "        G.remove_node(target)\n",
    "        removed.append(target)\n",
    "    return Gc_d, removed\n",
    "\n",
    "# Execute degree robustness analysis\n",
    "Gc_d, removed = degree_robust_remove(G)\n",
    "\n",
    "print(\"Degree robustness (size of largest connected component after each removal):\", Gc_d)\n",
    "print(\"Nodes removed in order:\", removed)\n",
    "\n",
    "# Plot the robustness analysis for targeted attacks\n",
    "plt.figure(figsize=(10, 6))\n",
    "plt.plot(Gc_d, marker='o', linestyle='-', color='b')\n",
    "plt.xlabel('Number of Nodes Removed')\n",
    "plt.ylabel('Size of Largest Connected Component')\n",
    "plt.title('Robustness Analysis: Size of Largest Connected Component vs. Nodes Removed')\n",
    "plt.grid(True)\n",
    "plt.show()\n",
    "\n",
    "# Random removal robustness function\n",
    "def degree_robust_rand(G):\n",
    "    G = G.copy()\n",
    "    Gc_dr = []\n",
    "    for i in range(len(G)):\n",
    "        node_deg = list(G.degree())\n",
    "        if not node_deg:\n",
    "            break\n",
    "        gc = max(nx.connected_components(G), key=len)\n",
    "        Gc_dr.append(len(gc))\n",
    "        # Random removal\n",
    "        target = random.choice(list(G.nodes()))\n",
    "        G.remove_node(target)\n",
    "    return Gc_dr\n",
    "\n",
    "# Execute random robustness analysis\n",
    "Gc_dr = degree_robust_rand(G)\n",
    "\n",
    "print(\"Random removal robustness (size of largest connected component after each removal):\", Gc_dr)\n",
    "\n",
    "# Plot the robustness analysis for random attacks\n",
    "plt.figure(figsize=(10, 6))\n",
    "plt.plot(Gc_dr, marker='o', linestyle='-', color='r')\n",
    "plt.xlabel('Number of Nodes Removed')\n",
    "plt.ylabel('Size of Largest Connected Component')\n",
    "plt.title('Robustness Analysis: Size of Largest Connected Component vs. Nodes Removed (Random)')\n",
    "plt.grid(True)\n",
    "plt.show()\n"
   ]
  },
  {
   "cell_type": "code",
   "execution_count": 21,
   "metadata": {
    "tags": []
   },
   "outputs": [
    {
     "data": {
      "text/plain": [
       "<matplotlib.legend.Legend at 0x172b41ee0>"
      ]
     },
     "execution_count": 21,
     "metadata": {},
     "output_type": "execute_result"
    },
    {
     "data": {
      "image/png": "[encoded data removed]",
      "text/plain": [
       "<Figure size 432x288 with 1 Axes>"
      ]
     },
     "metadata": {
      "needs_background": "light"
     },
     "output_type": "display_data"
    }
   ],
   "source": [
    "#ploting the robustness graph for targeted  and random attack based on degree\n",
    "plt.plot(Gc_d, label=\"Degree\") \n",
    "plt.plot(Gc_dr, label=\"Random\") \n",
    "plt.xlabel(\"Number of nodes removed\") \n",
    "plt.ylabel(\"Size of the Giant Component\")\n",
    "plt.title(\"Robustness\") \n",
    "plt.legend()"
   ]
  },
  {
   "cell_type": "code",
   "execution_count": 22,
   "metadata": {
    "tags": []
   },
   "outputs": [],
   "source": [
    "#degree preserving ramdomization\n",
    "G_pre=G.copy()\n",
    "G_preserving=nx.double_edge_swap(G_pre, nswap=1, max_tries=100)"
   ]
  },
  {
   "cell_type": "code",
   "execution_count": 25,
   "metadata": {},
   "outputs": [],
   "source": [
    "#doing robustness analysis for degree preserving randomizations\n",
    "#Gc_pre=degree_robust(G_preserving)"
   ]
  },
  {
   "cell_type": "code",
   "execution_count": 26,
   "metadata": {},
   "outputs": [
    {
     "ename": "NameError",
     "evalue": "name 'Gc_pre' is not defined",
     "output_type": "error",
     "traceback": [
      "\u001b[0;31m---------------------------------------------------------------------------\u001b[0m",
      "\u001b[0;31mNameError\u001b[0m                                 Traceback (most recent call last)",
      "\u001b[0;32m/var/folders/f1/01gxw8vn74q_x_rf_p5ztryjr405zq/T/ipykernel_58094/4025426769.py\u001b[0m in \u001b[0;36m<module>\u001b[0;34m\u001b[0m\n\u001b[1;32m      1\u001b[0m \u001b[0;31m#ploting the robustness graph for targeted  and random attack based on degree\u001b[0m\u001b[0;34m\u001b[0m\u001b[0;34m\u001b[0m\u001b[0;34m\u001b[0m\u001b[0m\n\u001b[1;32m      2\u001b[0m \u001b[0mplt\u001b[0m\u001b[0;34m.\u001b[0m\u001b[0mplot\u001b[0m\u001b[0;34m(\u001b[0m\u001b[0mGc_d\u001b[0m\u001b[0;34m,\u001b[0m \u001b[0;34m'r+'\u001b[0m\u001b[0;34m,\u001b[0m \u001b[0mlabel\u001b[0m\u001b[0;34m=\u001b[0m\u001b[0;34m\"Actual\"\u001b[0m\u001b[0;34m)\u001b[0m\u001b[0;34m\u001b[0m\u001b[0;34m\u001b[0m\u001b[0m\n\u001b[0;32m----> 3\u001b[0;31m \u001b[0mplt\u001b[0m\u001b[0;34m.\u001b[0m\u001b[0mplot\u001b[0m\u001b[0;34m(\u001b[0m\u001b[0mGc_pre\u001b[0m\u001b[0;34m,\u001b[0m \u001b[0;34m'b--'\u001b[0m\u001b[0;34m,\u001b[0m \u001b[0mlabel\u001b[0m\u001b[0;34m=\u001b[0m\u001b[0;34m\"Random\"\u001b[0m\u001b[0;34m)\u001b[0m\u001b[0;34m\u001b[0m\u001b[0;34m\u001b[0m\u001b[0m\n\u001b[0m\u001b[1;32m      4\u001b[0m \u001b[0mplt\u001b[0m\u001b[0;34m.\u001b[0m\u001b[0mxlabel\u001b[0m\u001b[0;34m(\u001b[0m\u001b[0;34m\"Number of nodes removed\"\u001b[0m\u001b[0;34m)\u001b[0m\u001b[0;34m\u001b[0m\u001b[0;34m\u001b[0m\u001b[0m\n\u001b[1;32m      5\u001b[0m \u001b[0mplt\u001b[0m\u001b[0;34m.\u001b[0m\u001b[0mylabel\u001b[0m\u001b[0;34m(\u001b[0m\u001b[0;34m\"Size of the Giant Component\"\u001b[0m\u001b[0;34m)\u001b[0m\u001b[0;34m\u001b[0m\u001b[0;34m\u001b[0m\u001b[0m\n",
      "\u001b[0;31mNameError\u001b[0m: name 'Gc_pre' is not defined"
     ]
    },
    {
     "data": {
      "image/png": "[encoded data removed]",
      "text/plain": [
       "<Figure size 432x288 with 1 Axes>"
      ]
     },
     "metadata": {
      "needs_background": "light"
     },
     "output_type": "display_data"
    }
   ],
   "source": [
    "#ploting the robustness graph for targeted  and random attack based on degree\n",
    "plt.plot(Gc_d, 'r+', label=\"Actual\") \n",
    "plt.plot(Gc_pre, 'b--', label=\"Random\") \n",
    "plt.xlabel(\"Number of nodes removed\") \n",
    "plt.ylabel(\"Size of the Giant Component\")\n",
    "plt.title(\"Robustness for a rail Network-Degree preserving randomization\") \n",
    "plt.legend()"
   ]
  },
  {
   "cell_type": "code",
   "execution_count": 31,
   "metadata": {},
   "outputs": [
    {
     "name": "stdout",
     "output_type": "stream",
     "text": [
      "Degree robustness (size of largest connected component after each removal): [84, 83, 82, 81, 80, 79, 78, 76, 74, 73, 72, 71, 70, 69, 68, 67, 66, 65, 64, 62, 61, 60, 59, 58, 57, 56, 55, 54, 53, 52, 51, 49, 48, 47, 44, 43, 38, 32, 26, 19, 10, 10, 5, 5, 5, 5, 5, 5, 5, 5, 3, 3, 3, 2, 2, 2, 2, 2, 2, 2, 2, 2, 2, 2, 2, 2, 2, 2, 2, 2, 2, 2, 2, 2, 2, 2, 2, 2, 2, 1, 1, 1, 1, 1]\n",
      "Nodes removed in order: ['Houston TX', 'Iowa', 'Chicago IL-IN-WI (IL Part)', 'Los Angeles CA', 'Baton Rouge LA', 'New Orleans LA-MS (LA Part)', 'Wyoming', 'Atlanta GA', 'Detroit MI', 'Fort Wayne IN', 'Cleveland OH', 'Minneapolis-St. Paul MN-WI (MN Part)', 'Beaumont TX', 'San Francisco CA', 'Philadelphia PA-NJ-DE-MD (PA Part)', 'Portland OR-WA (OR Part)', 'Tampa FL', 'Philadelphia PA-NJ-DE-MD (NJ Part)', 'Indianapolis IN', 'Baltimore MD', 'Salt Lake City UT', 'Chicago IL-IN-WI (IN Part)', 'Columbus OH', 'Birmingham AL', 'New York NY-NJ-CT-PA (NY Part)', 'Charleston SC', 'Memphis TN-MS-AR (TN Part)', 'New York NY-NJ-CT-PA (NJ Part)', 'Charlotte NC-SC (NC Part)', 'Omaha NE-IA (NE Part)', 'Pittsburgh PA-OH-WV (PA Part)', 'St. Louis MO-IL (MO Part)', 'Jacksonville FL-GA  CFS Area (FL Part)', 'Nashville TN', 'Richmond VA', 'Albany NY  CFS Area', 'Washington DC-VA-MD-WV (MD Part)', 'Cincinnati OH-KY-IN (OH Part)', 'Miami FL', 'Denver CO', 'New Mexico', 'Sacramento CA', 'Buffalo NY  CFS Area', 'Washington DC-VA-MD-WV (VA Part)', 'Kansas City MO-KS (KS Part)', 'Knoxville TN', 'Louisville KY-IN (KY Part)', 'Wichita KS', 'Phoenix AZ', 'Seattle WA', 'Milwaukee WI', 'Boston MA-RI-NH-CT (MA Part)', 'Philadelphia PA-NJ-DE-MD (DE Part)', 'Mobile AL', 'New York NY-NJ-CT-PA (PA Part)', 'Rochester NY', 'Vermont', 'San Diego CA', 'Austin TX', 'Raleigh-Durham NC', 'Cincinnati OH-KY-IN (KY Part)', 'Corpus Christi TX', 'El Paso TX-NM (TX Part)', 'Greenville SC', 'Kansas City MO-KS (MO Part)', 'San Antonio TX', 'Savannah GA', 'St. Louis MO-IL (IL Part)', 'Tulsa OK', 'Grand Rapids MI', 'Laredo TX', 'Virginia Beach-Norfolk VA-NC (VA Part)', 'Dayton OH', 'Oklahoma City OK', 'New York NY-NJ-CT-PA (CT Part)', 'Hartford CT', 'Portland OR-WA (WA Part)', 'Tucson AZ', 'Fresno CA', 'Washington DC-VA-MD-WV (DC Part)', 'Orlando FL', 'Boston MA-RI-NH-CT (NH Part)', 'Boston MA-RI-NH-CT (RI Part)', 'Las Vegas NV-AZ (NV Part)']\n",
      "Random removal robustness (size of largest connected component after each removal): [84, 83, 82, 81, 80, 79, 78, 77, 76, 75, 74, 73, 72, 71, 70, 69, 68, 67, 66, 65, 64, 63, 62, 61, 60, 59, 58, 57, 56, 55, 54, 53, 51, 49, 48, 47, 46, 45, 44, 43, 42, 41, 40, 39, 38, 37, 36, 35, 34, 33, 32, 31, 30, 29, 28, 27, 26, 25, 24, 23, 23, 22, 21, 20, 19, 18, 17, 16, 15, 14, 13, 12, 11, 10, 10, 9, 8, 7, 6, 4, 2, 2, 2, 1]\n",
      "Degree preserving randomization robustness (size of largest connected component after each removal): [84, 83, 82, 81, 80, 79, 78, 76, 74, 73, 72, 71, 70, 69, 68, 67, 66, 65, 64, 62, 61, 60, 59, 58, 57, 56, 55, 54, 53, 52, 51, 49, 48, 47, 44, 43, 42, 36, 26, 19, 19, 10, 10, 5, 5, 5, 5, 5, 5, 5, 3, 3, 3, 2, 2, 2, 2, 2, 2, 2, 2, 2, 2, 2, 2, 2, 2, 2, 2, 2, 2, 2, 2, 2, 2, 2, 2, 2, 2, 1, 1, 1, 1, 1]\n"
     ]
    },
    {
     "data": {
      "image/png": "[encoded data removed]",
      "text/plain": [
       "<Figure size 720x432 with 1 Axes>"
      ]
     },
     "metadata": {
      "needs_background": "light"
     },
     "output_type": "display_data"
    }
   ],
   "source": [
    "# Construct the graph using NetworkX\n",
    "G = nx.Graph()\n",
    "edges_array = edges[['dms_orig_string', 'dms_dest_string', 'distance_miles']].values\n",
    "G.add_weighted_edges_from(edges_array)\n",
    "\n",
    "# Degree robustness function\n",
    "def degree_robust_remove(G):\n",
    "    G = G.copy()\n",
    "    Gc_d = []\n",
    "    removed = []\n",
    "    for i in range(len(G)):\n",
    "        node_deg = list(G.degree())\n",
    "        if not node_deg:\n",
    "            break\n",
    "        gc = max(nx.connected_components(G), key=len)\n",
    "        Gc_d.append(len(gc))\n",
    "        target = max(node_deg, key=lambda x: x[1])[0]\n",
    "        G.remove_node(target)\n",
    "        removed.append(target)\n",
    "    return Gc_d, removed\n",
    "\n",
    "# Random removal robustness function\n",
    "def degree_robust_rand(G):\n",
    "    G = G.copy()\n",
    "    Gc_dr = []\n",
    "    for i in range(len(G)):\n",
    "        node_deg = list(G.degree())\n",
    "        if not node_deg:\n",
    "            break\n",
    "        gc = max(nx.connected_components(G), key=len)\n",
    "        Gc_dr.append(len(gc))\n",
    "        # Random removal\n",
    "        target = random.choice(list(G.nodes()))\n",
    "        G.remove_node(target)\n",
    "    return Gc_dr\n",
    "\n",
    "# Degree preserving randomization and robustness analysis\n",
    "def degree_preserving_randomization_robustness(G):\n",
    "    G_pre = G.copy()\n",
    "    G_preserving = nx.double_edge_swap(G_pre, nswap=1, max_tries=100)\n",
    "    Gc_pre, _ = degree_robust_remove(G_preserving)\n",
    "    return Gc_pre\n",
    "\n",
    "# Execute degree robustness analysis\n",
    "Gc_d, removed = degree_robust_remove(G)\n",
    "print(\"Degree robustness (size of largest connected component after each removal):\", Gc_d)\n",
    "print(\"Nodes removed in order:\", removed)\n",
    "\n",
    "# Execute random robustness analysis\n",
    "Gc_dr = degree_robust_rand(G)\n",
    "print(\"Random removal robustness (size of largest connected component after each removal):\", Gc_dr)\n",
    "\n",
    "# Execute degree preserving randomization robustness analysis\n",
    "Gc_pre = degree_preserving_randomization_robustness(G)\n",
    "print(\"Degree preserving randomization robustness (size of largest connected component after each removal):\", Gc_pre)\n",
    "\n",
    "# Plot the robustness analysis for targeted attacks\n",
    "plt.figure(figsize=(10, 6))\n",
    "plt.plot(Gc_d, marker='o', linestyle='-', color='b', label='Targeted Attack')\n",
    "plt.plot(Gc_dr, marker='x', linestyle='-', color='r', label='Random Attack')\n",
    "plt.plot(Gc_pre, marker='^', linestyle='-', color='g', label='Degree Preserving Randomization')\n",
    "plt.xlabel('Number of Nodes Removed')\n",
    "plt.ylabel('Size of Largest Connected Component')\n",
    "plt.title('Robustness Analysis: Size of Largest Connected Component vs. Nodes Removed')\n",
    "plt.legend()\n",
    "plt.grid(True)\n",
    "plt.show()\n"
   ]
  },
  {
   "cell_type": "code",
   "execution_count": 68,
   "metadata": {},
   "outputs": [
    {
     "name": "stdout",
     "output_type": "stream",
     "text": [
      "                 dms_orig_string  hot_days_change3_py\n",
      "0              Corpus Christi TX             3.823246\n",
      "1                      Laredo TX             3.823246\n",
      "2                      Austin TX             3.625731\n",
      "3                 San Antonio TX             3.625731\n",
      "4                     New Mexico             2.488816\n",
      "..                           ...                  ...\n",
      "77  Boston MA-RI-NH-CT (RI Part)             0.012500\n",
      "78  Boston MA-RI-NH-CT (MA Part)             0.012500\n",
      "79              San Francisco CA             0.000000\n",
      "80      Portland OR-WA (OR Part)             0.000000\n",
      "81      Portland OR-WA (WA Part)             0.000000\n",
      "\n",
      "[82 rows x 2 columns]\n"
     ]
    }
   ],
   "source": [
    "df_heatwave = pd.read_csv(\"hot_days_per_year.csv\")\n",
    "df_heatwave_select = df_heatwave[[\"dms_orig_string\",\"hot_days_change3_py\"]]\n",
    "\n",
    "# Sort the DataFrame in descending order based on 'hot_days_change_py'\n",
    "df_heatwave_select_sorted = df_heatwave_select.sort_values(by='hot_days_change3_py', ascending=False)\n",
    "\n",
    "# Reset index (optional)\n",
    "df_heatwave_select_sorted = df_heatwave_select_sorted.reset_index(drop=True)\n",
    "\n",
    "# Display the sorted DataFrame\n",
    "print(df_heatwave_select_sorted)"
   ]
  },
  {
   "cell_type": "code",
   "execution_count": 69,
   "metadata": {
    "tags": []
   },
   "outputs": [
    {
     "name": "stdout",
     "output_type": "stream",
     "text": [
      "Corpus Christi TX\n",
      "Laredo TX\n",
      "Austin TX\n",
      "San Antonio TX\n",
      "New Mexico\n",
      "Omaha NE-IA (NE Part)\n",
      "Kansas City MO-KS (MO Part)\n",
      "Kansas City MO-KS (KS Part)\n",
      "Indianapolis IN\n",
      "Houston TX\n",
      "Iowa\n",
      "St. Louis MO-IL (MO Part)\n",
      "St. Louis MO-IL (IL Part)\n",
      "Salt Lake City UT\n",
      "Tulsa OK\n",
      "El Paso TX-NM (TX Part)\n",
      "Memphis TN-MS-AR (TN Part)\n",
      "Sacramento CA\n",
      "Fresno CA\n",
      "Tucson AZ\n",
      "Birmingham AL\n",
      "Nashville TN\n",
      "Los Angeles CA\n",
      "Oklahoma City OK\n",
      "Wichita KS\n",
      "Mobile AL\n",
      "Fort Wayne IN\n",
      "Dayton OH\n",
      "Columbus OH\n",
      "Cincinnati OH-KY-IN (KY Part)\n",
      "Cincinnati OH-KY-IN (OH Part)\n",
      "Denver CO\n",
      "Phoenix AZ\n",
      "Las Vegas NV-AZ (NV Part)\n",
      "Minneapolis-St. Paul MN-WI (MN Part)\n",
      "Wyoming\n",
      "Grand Rapids MI\n",
      "Detroit MI\n",
      "Louisville KY-IN (KY Part)\n",
      "Beaumont TX\n",
      "Savannah GA\n",
      "Milwaukee WI\n",
      "Chicago IL-IN-WI (IL Part)\n",
      "Chicago IL-IN-WI (IN Part)\n",
      "Raleigh-Durham NC\n",
      "Jacksonville FL-GA  CFS Area (FL Part)\n",
      "Baton Rouge LA\n",
      "Tampa FL\n",
      "Orlando FL\n",
      "Atlanta GA\n",
      "Knoxville TN\n",
      "Charlotte NC-SC (NC Part)\n",
      "Greenville SC\n",
      "Cleveland OH\n",
      "Washington DC-VA-MD-WV (VA Part)\n",
      "Washington DC-VA-MD-WV (MD Part)\n",
      "Virginia Beach-Norfolk VA-NC (VA Part)\n",
      "Richmond VA\n",
      "New Orleans LA-MS (LA Part)\n",
      "Baltimore MD\n",
      "Philadelphia PA-NJ-DE-MD (PA Part)\n",
      "Philadelphia PA-NJ-DE-MD (NJ Part)\n",
      "Philadelphia PA-NJ-DE-MD (DE Part)\n",
      "Seattle WA\n",
      "Buffalo NY  CFS Area\n",
      "Rochester NY\n",
      "Pittsburgh PA-OH-WV (PA Part)\n",
      "Miami FL\n",
      "Charleston SC\n",
      "Vermont\n",
      "Albany NY  CFS Area\n",
      "San Diego CA\n",
      "Hartford CT\n",
      "New York NY-NJ-CT-PA (PA Part)\n",
      "New York NY-NJ-CT-PA (NY Part)\n",
      "New York NY-NJ-CT-PA (NJ Part)\n",
      "New York NY-NJ-CT-PA (CT Part)\n",
      "Boston MA-RI-NH-CT (RI Part)\n",
      "Boston MA-RI-NH-CT (MA Part)\n",
      "San Francisco CA\n",
      "Portland OR-WA (OR Part)\n",
      "Portland OR-WA (WA Part)\n"
     ]
    }
   ],
   "source": [
    "for node_hw in df_heatwave_select_sorted['dms_orig_string'] :\n",
    "    print (node_hw)"
   ]
  },
  {
   "cell_type": "code",
   "execution_count": 70,
   "metadata": {
    "tags": []
   },
   "outputs": [
    {
     "name": "stdout",
     "output_type": "stream",
     "text": [
      "Corpus Christi TX\n",
      "removed\n",
      "Laredo TX\n",
      "removed\n",
      "Austin TX\n",
      "removed\n",
      "San Antonio TX\n",
      "removed\n",
      "New Mexico\n",
      "removed\n",
      "Omaha NE-IA (NE Part)\n",
      "removed\n",
      "Kansas City MO-KS (MO Part)\n",
      "removed\n",
      "Kansas City MO-KS (KS Part)\n",
      "removed\n",
      "Indianapolis IN\n",
      "removed\n",
      "Houston TX\n",
      "removed\n",
      "Iowa\n",
      "removed\n",
      "St. Louis MO-IL (MO Part)\n",
      "removed\n",
      "St. Louis MO-IL (IL Part)\n",
      "removed\n",
      "Salt Lake City UT\n",
      "removed\n",
      "Tulsa OK\n",
      "removed\n",
      "El Paso TX-NM (TX Part)\n",
      "removed\n",
      "Memphis TN-MS-AR (TN Part)\n",
      "removed\n",
      "Sacramento CA\n",
      "removed\n",
      "Fresno CA\n",
      "removed\n",
      "Tucson AZ\n",
      "removed\n",
      "Birmingham AL\n",
      "removed\n",
      "Nashville TN\n",
      "removed\n",
      "Los Angeles CA\n",
      "removed\n",
      "Oklahoma City OK\n",
      "removed\n",
      "Wichita KS\n",
      "removed\n",
      "Mobile AL\n",
      "removed\n",
      "Fort Wayne IN\n",
      "removed\n",
      "Dayton OH\n",
      "removed\n",
      "Columbus OH\n",
      "removed\n",
      "Cincinnati OH-KY-IN (KY Part)\n",
      "removed\n",
      "Cincinnati OH-KY-IN (OH Part)\n",
      "removed\n",
      "Denver CO\n",
      "removed\n",
      "Phoenix AZ\n",
      "removed\n",
      "Las Vegas NV-AZ (NV Part)\n",
      "removed\n",
      "Minneapolis-St. Paul MN-WI (MN Part)\n",
      "removed\n",
      "Wyoming\n",
      "removed\n",
      "Grand Rapids MI\n",
      "removed\n",
      "Detroit MI\n",
      "removed\n",
      "Louisville KY-IN (KY Part)\n",
      "removed\n",
      "Beaumont TX\n",
      "removed\n",
      "Savannah GA\n",
      "removed\n",
      "Milwaukee WI\n",
      "removed\n",
      "Chicago IL-IN-WI (IL Part)\n",
      "removed\n",
      "Chicago IL-IN-WI (IN Part)\n",
      "removed\n",
      "Raleigh-Durham NC\n",
      "removed\n",
      "Jacksonville FL-GA  CFS Area (FL Part)\n",
      "removed\n",
      "Baton Rouge LA\n",
      "removed\n",
      "Tampa FL\n",
      "removed\n",
      "Orlando FL\n",
      "removed\n",
      "Atlanta GA\n",
      "removed\n",
      "Knoxville TN\n",
      "removed\n",
      "Charlotte NC-SC (NC Part)\n",
      "removed\n",
      "Greenville SC\n",
      "removed\n",
      "Cleveland OH\n",
      "removed\n",
      "Washington DC-VA-MD-WV (VA Part)\n",
      "removed\n",
      "Washington DC-VA-MD-WV (MD Part)\n",
      "removed\n",
      "Virginia Beach-Norfolk VA-NC (VA Part)\n",
      "removed\n",
      "Richmond VA\n",
      "removed\n",
      "New Orleans LA-MS (LA Part)\n",
      "removed\n",
      "Baltimore MD\n",
      "removed\n",
      "Philadelphia PA-NJ-DE-MD (PA Part)\n",
      "removed\n",
      "Philadelphia PA-NJ-DE-MD (NJ Part)\n",
      "removed\n",
      "Philadelphia PA-NJ-DE-MD (DE Part)\n",
      "removed\n",
      "Seattle WA\n",
      "removed\n",
      "Buffalo NY  CFS Area\n",
      "removed\n",
      "Rochester NY\n",
      "removed\n",
      "Pittsburgh PA-OH-WV (PA Part)\n",
      "removed\n",
      "Miami FL\n",
      "removed\n",
      "Charleston SC\n",
      "removed\n",
      "Vermont\n",
      "removed\n",
      "Albany NY  CFS Area\n",
      "removed\n",
      "San Diego CA\n",
      "removed\n",
      "Hartford CT\n",
      "removed\n",
      "New York NY-NJ-CT-PA (PA Part)\n",
      "removed\n",
      "New York NY-NJ-CT-PA (NY Part)\n",
      "removed\n",
      "New York NY-NJ-CT-PA (NJ Part)\n",
      "removed\n",
      "New York NY-NJ-CT-PA (CT Part)\n",
      "removed\n",
      "Boston MA-RI-NH-CT (RI Part)\n",
      "removed\n",
      "Boston MA-RI-NH-CT (MA Part)\n",
      "removed\n",
      "San Francisco CA\n",
      "removed\n",
      "Portland OR-WA (OR Part)\n",
      "removed\n",
      "Portland OR-WA (WA Part)\n",
      "removed\n"
     ]
    }
   ],
   "source": [
    "G_test = G.copy()\n",
    "Gc_d_hw = []\n",
    "removed_hw = []\n",
    "gc = max(nx.connected_components(G_test), key=len)\n",
    "Gc_d_hw.append(len(gc))\n",
    "for node_hw in df_heatwave_select_sorted['dms_orig_string'] :\n",
    "    print (node_hw)\n",
    "    try:\n",
    "        print (\"removed\")\n",
    "        G_test.remove_node(node_hw)\n",
    "        removed_hw.append(node_hw)\n",
    "        gc = max(nx.connected_components(G_test), key=len)\n",
    "        Gc_d_hw.append(len(gc))\n",
    "    except:\n",
    "        pass\n",
    "    \n",
    "    "
   ]
  },
  {
   "cell_type": "code",
   "execution_count": 71,
   "metadata": {
    "tags": []
   },
   "outputs": [
    {
     "data": {
      "text/plain": [
       "['Corpus Christi TX',\n",
       " 'Laredo TX',\n",
       " 'Austin TX',\n",
       " 'San Antonio TX',\n",
       " 'New Mexico',\n",
       " 'Omaha NE-IA (NE Part)',\n",
       " 'Kansas City MO-KS (MO Part)',\n",
       " 'Kansas City MO-KS (KS Part)',\n",
       " 'Indianapolis IN',\n",
       " 'Houston TX',\n",
       " 'Iowa',\n",
       " 'St. Louis MO-IL (MO Part)',\n",
       " 'St. Louis MO-IL (IL Part)',\n",
       " 'Salt Lake City UT',\n",
       " 'Tulsa OK',\n",
       " 'El Paso TX-NM (TX Part)',\n",
       " 'Memphis TN-MS-AR (TN Part)',\n",
       " 'Sacramento CA',\n",
       " 'Fresno CA',\n",
       " 'Tucson AZ',\n",
       " 'Birmingham AL',\n",
       " 'Nashville TN',\n",
       " 'Los Angeles CA',\n",
       " 'Oklahoma City OK',\n",
       " 'Wichita KS',\n",
       " 'Mobile AL',\n",
       " 'Fort Wayne IN',\n",
       " 'Dayton OH',\n",
       " 'Columbus OH',\n",
       " 'Cincinnati OH-KY-IN (KY Part)',\n",
       " 'Cincinnati OH-KY-IN (OH Part)',\n",
       " 'Denver CO',\n",
       " 'Phoenix AZ',\n",
       " 'Las Vegas NV-AZ (NV Part)',\n",
       " 'Minneapolis-St. Paul MN-WI (MN Part)',\n",
       " 'Wyoming',\n",
       " 'Grand Rapids MI',\n",
       " 'Detroit MI',\n",
       " 'Louisville KY-IN (KY Part)',\n",
       " 'Beaumont TX',\n",
       " 'Savannah GA',\n",
       " 'Milwaukee WI',\n",
       " 'Chicago IL-IN-WI (IL Part)',\n",
       " 'Chicago IL-IN-WI (IN Part)',\n",
       " 'Raleigh-Durham NC',\n",
       " 'Jacksonville FL-GA  CFS Area (FL Part)',\n",
       " 'Baton Rouge LA',\n",
       " 'Tampa FL',\n",
       " 'Orlando FL',\n",
       " 'Atlanta GA',\n",
       " 'Knoxville TN',\n",
       " 'Charlotte NC-SC (NC Part)',\n",
       " 'Greenville SC',\n",
       " 'Cleveland OH',\n",
       " 'Washington DC-VA-MD-WV (VA Part)',\n",
       " 'Washington DC-VA-MD-WV (MD Part)',\n",
       " 'Virginia Beach-Norfolk VA-NC (VA Part)',\n",
       " 'Richmond VA',\n",
       " 'New Orleans LA-MS (LA Part)',\n",
       " 'Baltimore MD',\n",
       " 'Philadelphia PA-NJ-DE-MD (PA Part)',\n",
       " 'Philadelphia PA-NJ-DE-MD (NJ Part)',\n",
       " 'Philadelphia PA-NJ-DE-MD (DE Part)',\n",
       " 'Seattle WA',\n",
       " 'Buffalo NY  CFS Area',\n",
       " 'Rochester NY',\n",
       " 'Pittsburgh PA-OH-WV (PA Part)',\n",
       " 'Miami FL',\n",
       " 'Charleston SC',\n",
       " 'Vermont',\n",
       " 'Albany NY  CFS Area',\n",
       " 'San Diego CA',\n",
       " 'Hartford CT',\n",
       " 'New York NY-NJ-CT-PA (PA Part)',\n",
       " 'New York NY-NJ-CT-PA (NY Part)',\n",
       " 'New York NY-NJ-CT-PA (NJ Part)',\n",
       " 'New York NY-NJ-CT-PA (CT Part)',\n",
       " 'Boston MA-RI-NH-CT (RI Part)',\n",
       " 'Boston MA-RI-NH-CT (MA Part)',\n",
       " 'San Francisco CA',\n",
       " 'Portland OR-WA (OR Part)',\n",
       " 'Portland OR-WA (WA Part)']"
      ]
     },
     "execution_count": 71,
     "metadata": {},
     "output_type": "execute_result"
    }
   ],
   "source": [
    "removed_hw"
   ]
  },
  {
   "cell_type": "code",
   "execution_count": 72,
   "metadata": {
    "tags": []
   },
   "outputs": [
    {
     "data": {
      "text/plain": [
       "['Houston TX',\n",
       " 'Iowa',\n",
       " 'Chicago IL-IN-WI (IL Part)',\n",
       " 'Los Angeles CA',\n",
       " 'Baton Rouge LA',\n",
       " 'New Orleans LA-MS (LA Part)',\n",
       " 'Wyoming',\n",
       " 'Atlanta GA',\n",
       " 'Detroit MI',\n",
       " 'Fort Wayne IN',\n",
       " 'Cleveland OH',\n",
       " 'Minneapolis-St. Paul MN-WI (MN Part)',\n",
       " 'Beaumont TX',\n",
       " 'San Francisco CA',\n",
       " 'Philadelphia PA-NJ-DE-MD (PA Part)',\n",
       " 'Portland OR-WA (OR Part)',\n",
       " 'Tampa FL',\n",
       " 'Philadelphia PA-NJ-DE-MD (NJ Part)',\n",
       " 'Indianapolis IN',\n",
       " 'Baltimore MD',\n",
       " 'Salt Lake City UT',\n",
       " 'Chicago IL-IN-WI (IN Part)',\n",
       " 'Columbus OH',\n",
       " 'Birmingham AL',\n",
       " 'New York NY-NJ-CT-PA (NY Part)',\n",
       " 'Charleston SC',\n",
       " 'Memphis TN-MS-AR (TN Part)',\n",
       " 'New York NY-NJ-CT-PA (NJ Part)',\n",
       " 'Charlotte NC-SC (NC Part)',\n",
       " 'Omaha NE-IA (NE Part)',\n",
       " 'Pittsburgh PA-OH-WV (PA Part)',\n",
       " 'St. Louis MO-IL (MO Part)',\n",
       " 'Jacksonville FL-GA  CFS Area (FL Part)',\n",
       " 'Nashville TN',\n",
       " 'Richmond VA',\n",
       " 'Albany NY  CFS Area',\n",
       " 'Washington DC-VA-MD-WV (MD Part)',\n",
       " 'Cincinnati OH-KY-IN (OH Part)',\n",
       " 'Miami FL',\n",
       " 'Denver CO',\n",
       " 'New Mexico',\n",
       " 'Sacramento CA',\n",
       " 'Buffalo NY  CFS Area',\n",
       " 'Washington DC-VA-MD-WV (VA Part)',\n",
       " 'Kansas City MO-KS (KS Part)',\n",
       " 'Knoxville TN',\n",
       " 'Louisville KY-IN (KY Part)',\n",
       " 'Wichita KS',\n",
       " 'Phoenix AZ',\n",
       " 'Seattle WA',\n",
       " 'Milwaukee WI',\n",
       " 'Boston MA-RI-NH-CT (MA Part)',\n",
       " 'Philadelphia PA-NJ-DE-MD (DE Part)',\n",
       " 'Mobile AL',\n",
       " 'New York NY-NJ-CT-PA (PA Part)',\n",
       " 'Rochester NY',\n",
       " 'Vermont',\n",
       " 'San Diego CA',\n",
       " 'Austin TX',\n",
       " 'Raleigh-Durham NC',\n",
       " 'Cincinnati OH-KY-IN (KY Part)',\n",
       " 'Corpus Christi TX',\n",
       " 'El Paso TX-NM (TX Part)',\n",
       " 'Greenville SC',\n",
       " 'Kansas City MO-KS (MO Part)',\n",
       " 'San Antonio TX',\n",
       " 'Savannah GA',\n",
       " 'St. Louis MO-IL (IL Part)',\n",
       " 'Tulsa OK',\n",
       " 'Grand Rapids MI',\n",
       " 'Laredo TX',\n",
       " 'Virginia Beach-Norfolk VA-NC (VA Part)',\n",
       " 'Dayton OH',\n",
       " 'Oklahoma City OK',\n",
       " 'New York NY-NJ-CT-PA (CT Part)',\n",
       " 'Hartford CT',\n",
       " 'Portland OR-WA (WA Part)',\n",
       " 'Tucson AZ',\n",
       " 'Fresno CA',\n",
       " 'Washington DC-VA-MD-WV (DC Part)',\n",
       " 'Orlando FL',\n",
       " 'Boston MA-RI-NH-CT (NH Part)',\n",
       " 'Boston MA-RI-NH-CT (RI Part)',\n",
       " 'Las Vegas NV-AZ (NV Part)']"
      ]
     },
     "execution_count": 72,
     "metadata": {},
     "output_type": "execute_result"
    }
   ],
   "source": [
    "removed"
   ]
  },
  {
   "cell_type": "code",
   "execution_count": 73,
   "metadata": {},
   "outputs": [],
   "source": [
    "# Degree robustness function\n",
    "def degree_robust_remove(G):\n",
    "    G = G.copy()\n",
    "    Gc_d = []\n",
    "    removed = []\n",
    "    for i in range(len(G)):\n",
    "        node_deg = list(G.degree())\n",
    "        if not node_deg:\n",
    "            break\n",
    "        gc = max(nx.connected_components(G), key=len)\n",
    "        Gc_d.append(len(gc))\n",
    "        target = max(node_deg, key=lambda x: x[1])[0]\n",
    "        G.remove_node(target)\n",
    "        removed.append(target)\n",
    "    return Gc_d, removed"
   ]
  },
  {
   "cell_type": "code",
   "execution_count": 74,
   "metadata": {},
   "outputs": [
    {
     "name": "stdout",
     "output_type": "stream",
     "text": [
      "Degree robustness (size of largest connected component after each removal): [84, 83, 82, 81, 80, 79, 78, 76, 74, 73, 72, 71, 70, 69, 68, 67, 66, 65, 64, 62, 61, 60, 59, 58, 57, 56, 55, 54, 53, 52, 51, 49, 48, 47, 44, 43, 38, 32, 26, 19, 10, 10, 5, 5, 5, 5, 5, 5, 5, 5, 3, 3, 3, 2, 2, 2, 2, 2, 2, 2, 2, 2, 2, 2, 2, 2, 2, 2, 2, 2, 2, 2, 2, 2, 2, 2, 2, 2, 2, 1, 1, 1, 1, 1]\n",
      "Nodes removed in order: ['Houston TX', 'Iowa', 'Chicago IL-IN-WI (IL Part)', 'Los Angeles CA', 'Baton Rouge LA', 'New Orleans LA-MS (LA Part)', 'Wyoming', 'Atlanta GA', 'Detroit MI', 'Fort Wayne IN', 'Cleveland OH', 'Minneapolis-St. Paul MN-WI (MN Part)', 'Beaumont TX', 'San Francisco CA', 'Philadelphia PA-NJ-DE-MD (PA Part)', 'Portland OR-WA (OR Part)', 'Tampa FL', 'Philadelphia PA-NJ-DE-MD (NJ Part)', 'Indianapolis IN', 'Baltimore MD', 'Salt Lake City UT', 'Chicago IL-IN-WI (IN Part)', 'Columbus OH', 'Birmingham AL', 'New York NY-NJ-CT-PA (NY Part)', 'Charleston SC', 'Memphis TN-MS-AR (TN Part)', 'New York NY-NJ-CT-PA (NJ Part)', 'Charlotte NC-SC (NC Part)', 'Omaha NE-IA (NE Part)', 'Pittsburgh PA-OH-WV (PA Part)', 'St. Louis MO-IL (MO Part)', 'Jacksonville FL-GA  CFS Area (FL Part)', 'Nashville TN', 'Richmond VA', 'Albany NY  CFS Area', 'Washington DC-VA-MD-WV (MD Part)', 'Cincinnati OH-KY-IN (OH Part)', 'Miami FL', 'Denver CO', 'New Mexico', 'Sacramento CA', 'Buffalo NY  CFS Area', 'Washington DC-VA-MD-WV (VA Part)', 'Kansas City MO-KS (KS Part)', 'Knoxville TN', 'Louisville KY-IN (KY Part)', 'Wichita KS', 'Phoenix AZ', 'Seattle WA', 'Milwaukee WI', 'Boston MA-RI-NH-CT (MA Part)', 'Philadelphia PA-NJ-DE-MD (DE Part)', 'Mobile AL', 'New York NY-NJ-CT-PA (PA Part)', 'Rochester NY', 'Vermont', 'San Diego CA', 'Austin TX', 'Raleigh-Durham NC', 'Cincinnati OH-KY-IN (KY Part)', 'Corpus Christi TX', 'El Paso TX-NM (TX Part)', 'Greenville SC', 'Kansas City MO-KS (MO Part)', 'San Antonio TX', 'Savannah GA', 'St. Louis MO-IL (IL Part)', 'Tulsa OK', 'Grand Rapids MI', 'Laredo TX', 'Virginia Beach-Norfolk VA-NC (VA Part)', 'Dayton OH', 'Oklahoma City OK', 'New York NY-NJ-CT-PA (CT Part)', 'Hartford CT', 'Portland OR-WA (WA Part)', 'Tucson AZ', 'Fresno CA', 'Washington DC-VA-MD-WV (DC Part)', 'Orlando FL', 'Boston MA-RI-NH-CT (NH Part)', 'Boston MA-RI-NH-CT (RI Part)', 'Las Vegas NV-AZ (NV Part)']\n",
      "Random removal robustness (size of largest connected component after each removal): [84, 83, 82, 81, 80, 79, 78, 77, 76, 75, 74, 73, 72, 71, 70, 69, 68, 67, 66, 65, 64, 63, 62, 61, 60, 58, 57, 56, 55, 54, 53, 51, 50, 49, 48, 47, 46, 45, 44, 43, 42, 41, 40, 39, 38, 37, 36, 36, 35, 34, 33, 32, 31, 30, 29, 28, 27, 26, 25, 24, 23, 22, 21, 20, 20, 19, 18, 17, 16, 15, 11, 11, 10, 9, 9, 8, 7, 6, 4, 3, 2, 2, 1, 1]\n",
      "Degree preserving randomization robustness (size of largest connected component after each removal): [84, 83, 82, 81, 80, 79, 78, 76, 74, 73, 72, 71, 70, 69, 68, 67, 66, 65, 64, 62, 61, 60, 59, 58, 57, 56, 55, 54, 53, 52, 51, 50, 48, 47, 44, 43, 38, 32, 26, 19, 10, 10, 5, 5, 5, 5, 5, 5, 5, 5, 3, 3, 3, 2, 2, 2, 2, 2, 2, 2, 2, 2, 2, 2, 2, 2, 2, 2, 2, 2, 2, 2, 2, 2, 2, 2, 2, 2, 2, 1, 1, 1, 1, 1]\n"
     ]
    },
    {
     "data": {
      "image/png": "[encoded data removed]",
      "text/plain": [
       "<Figure size 864x576 with 1 Axes>"
      ]
     },
     "metadata": {
      "needs_background": "light"
     },
     "output_type": "display_data"
    }
   ],
   "source": [
    "import pandas as pd\n",
    "import networkx as nx\n",
    "import matplotlib.pyplot as plt\n",
    "import random\n",
    "\n",
    "# Load the filtered edges CSV file\n",
    "edges_file_path = 'railonly.csv'\n",
    "edges = pd.read_csv(edges_file_path)\n",
    "\n",
    "# Construct the graph using NetworkX\n",
    "G = nx.Graph()\n",
    "edges_array = edges[['dms_orig_string', 'dms_dest_string', 'distance_miles']].values\n",
    "G.add_weighted_edges_from(edges_array)\n",
    "\n",
    "# Degree robustness function\n",
    "def degree_robust_remove(G):\n",
    "    G = G.copy()\n",
    "    Gc_d = []\n",
    "    removed = []\n",
    "    for i in range(len(G)):\n",
    "        node_deg = list(G.degree())\n",
    "        if not node_deg:\n",
    "            break\n",
    "        gc = max(nx.connected_components(G), key=len)\n",
    "        Gc_d.append(len(gc))\n",
    "        target = max(node_deg, key=lambda x: x[1])[0]\n",
    "        G.remove_node(target)\n",
    "        removed.append(target)\n",
    "    return Gc_d, removed\n",
    "\n",
    "# Random removal robustness function\n",
    "def degree_robust_rand(G):\n",
    "    G = G.copy()\n",
    "    Gc_dr = []\n",
    "    for i in range(len(G)):\n",
    "        node_deg = list(G.degree())\n",
    "        if not node_deg:\n",
    "            break\n",
    "        gc = max(nx.connected_components(G), key=len)\n",
    "        Gc_dr.append(len(gc))\n",
    "        # Random removal\n",
    "        target = random.choice(list(G.nodes()))\n",
    "        G.remove_node(target)\n",
    "    return Gc_dr\n",
    "\n",
    "# Degree preserving randomization and robustness analysis\n",
    "def degree_preserving_randomization_robustness(G):\n",
    "    G_pre = G.copy()\n",
    "    G_preserving = nx.double_edge_swap(G_pre, nswap=1, max_tries=100)\n",
    "    Gc_pre, _ = degree_robust_remove(G_preserving)\n",
    "    return Gc_pre\n",
    "\n",
    "# Execute degree robustness analysis\n",
    "Gc_d, removed = degree_robust_remove(G)\n",
    "print(\"Degree robustness (size of largest connected component after each removal):\", Gc_d)\n",
    "print(\"Nodes removed in order:\", removed)\n",
    "\n",
    "# Execute random robustness analysis\n",
    "Gc_dr = degree_robust_rand(G)\n",
    "print(\"Random removal robustness (size of largest connected component after each removal):\", Gc_dr)\n",
    "\n",
    "# Execute degree preserving randomization robustness analysis\n",
    "Gc_pre = degree_preserving_randomization_robustness(G)\n",
    "print(\"Degree preserving randomization robustness (size of largest connected component after each removal):\", Gc_pre)\n",
    "\n",
    "# New function to simulate the impact of removing \"San Antonio TX\"\n",
    "def remove_node_and_analyze(G, node):\n",
    "    G = G.copy()\n",
    "    G.remove_node(node)\n",
    "    Gc_sa = []\n",
    "    for i in range(len(G)):\n",
    "        gc = max(nx.connected_components(G), key=len)\n",
    "        Gc_sa.append(len(gc))\n",
    "        if len(gc) == 0:\n",
    "            break\n",
    "        G.remove_node(random.choice(list(gc)))\n",
    "    return Gc_sa\n",
    "\n",
    "# Analyze the impact of removing \"San Antonio TX\"\n",
    "Gc_sa = remove_node_and_analyze(G, \"San Antonio TX\")\n",
    "\n",
    "# Combined plot\n",
    "plt.figure(figsize=(12, 8))\n",
    "plt.plot(Gc_d, marker='o', linestyle='-', color='b', label='Targeted Attack')\n",
    "plt.plot(Gc_dr, marker='x', linestyle='-', color='r', label='Random Attack')\n",
    "#plt.plot(Gc_pre, marker='^', linestyle='-', color='g', label='Degree Preserving Randomization')\n",
    "#plt.plot(Gc_sa, marker='s', linestyle='-', color='m', label='Removal of San Antonio TX(heat wave)')\n",
    "plt.plot(Gc_d_hw, marker='s', linestyle='-', color='m', label='Targeted Heatwave')\n",
    "plt.xlabel('Number of Nodes Removed')\n",
    "plt.ylabel('Size of Largest Connected Component')\n",
    "plt.title('Robustness Analysis: Size of Largest Connected Component vs. Nodes Removed')\n",
    "plt.legend()\n",
    "plt.grid(True)\n",
    "plt.show()\n"
   ]
  },
  {
   "cell_type": "code",
   "execution_count": 29,
   "metadata": {},
   "outputs": [
    {
     "name": "stdout",
     "output_type": "stream",
     "text": [
      "average degree of GNM : 20.19047619047619\n"
     ]
    }
   ],
   "source": [
    "#generating GNM graph\n",
    "G_gnm_c=G.copy()\n",
    "G_gnm=nx.gnm_random_graph(len(G_gnm_c), G.number_of_edges(), seed=23, directed=False)\n",
    "averagedegree_gnm=G_gnm.size()*2/len(G_gnm)\n",
    "print (\"average degree of GNM :\", averagedegree_gnm)"
   ]
  },
  {
   "cell_type": "code",
   "execution_count": null,
   "metadata": {},
   "outputs": [],
   "source": [
    "G_gnm1=G_gnm.copy()\n",
    "Gc_gnm_d=degree_robust(G_gnm1)"
   ]
  },
  {
   "cell_type": "code",
   "execution_count": null,
   "metadata": {},
   "outputs": [],
   "source": [
    "def degree_preserving_randomization_robustness(G):\n",
    "    G_pre = G.copy()\n",
    "    G_preserving = nx.double_edge_swap(G_pre, nswap=1, max_tries=100)\n",
    "    Gc_pre, _ = degree_robust_remove(G_preserving)\n",
    "    return Gc_pre\n",
    "\n",
    "# Execute degree robustness analysis\n",
    "Gc_d, removed = degree_robust_remove(G)\n",
    "print(\"Degree robustness (size of largest connected component after each removal):\", Gc_d)\n",
    "print(\"Nodes removed in order:\", removed)\n",
    "\n",
    "# Execute random robustness analysis\n",
    "Gc_dr = degree_robust_rand(G)\n",
    "print(\"Random removal robustness (size of largest connected component after each removal):\", Gc_dr)\n",
    "\n",
    "# Execute degree preserving randomization robustness analysis\n",
    "Gc_pre = degree_preserving_randomization_robustness(G)\n",
    "print(\"Degree preserving randomization robustness (size of largest connected component after each removal):\", Gc_pre)\n",
    "\n",
    "# Generating GNM random graph and robustness analysis\n",
    "G_gnm = nx.gnm_random_graph(len(G), G.number_of_edges(), seed=23, directed=False)\n",
    "averagedegree_gnm = G_gnm.size() * 2 / len(G_gnm)\n",
    "print(\"Average degree of GNM:\", averagedegree_gnm)\n",
    "Gc_gnm_d, _ = degree_robust_remove(G_gnm)\n",
    "\n",
    "# Plot the robustness analysis for targeted attacks\n",
    "plt.figure(figsize=(10, 6))\n",
    "plt.plot(Gc_d, marker='o', linestyle='-', color='b', label='Targeted Attack')\n",
    "plt.plot(Gc_dr, marker='x', linestyle='-', color='r', label='Random Attack')\n",
    "plt.plot(Gc_pre, marker='^', linestyle='-', color='g', label='Degree Preserving Randomization')\n",
    "plt.plot(Gc_gnm_d, marker='s', linestyle='-', color='m', label='GNM Random Graph')\n",
    "plt.xlabel('Number of Nodes Removed')\n",
    "plt.ylabel('Size of Largest Connected Component')\n",
    "plt.title('Robustness Analysis: Size of Largest Connected Component vs. Nodes Removed')\n",
    "plt.legend()\n",
    "plt.grid(True)\n",
    "plt.show()"
   ]
  },
  {
   "cell_type": "code",
   "execution_count": null,
   "metadata": {
    "scrolled": true
   },
   "outputs": [],
   "source": [
    "#ploting the robustness graph for targeted  and random attack based on degree\n",
    "#plt.plot(Gc_gnm_d, label=\"Actual\") \n",
    "plt.plot(Gc_gnm_d, label=\"Targert\") \n",
    "plt.xlabel(\"Number of nodes removed\") \n",
    "plt.ylabel(\"Size of the Giant Component\")\n",
    "plt.title(\"Robustness for an equivalent random GNM (keeping nodes and edges constant)\") \n",
    "plt.legend()"
   ]
  },
  {
   "cell_type": "code",
   "execution_count": null,
   "metadata": {},
   "outputs": [],
   "source": [
    "# Plotting degree distribution of GNM model\n",
    "\n",
    "degrees_rand = [d for n, d in G_gnm.degree()]\n",
    "kmin = min(degrees_rand)\n",
    "kmax = max(degrees_rand)\n",
    "bin_edges = np.logspace(np.log10(kmin), np.log10(kmax), num=10)\n",
    "density_rand, bins = np.histogram(degrees_rand, bins=bin_edges, density=True)\n",
    "\n",
    "fig2 = plt.figure(figsize=(6, 4))\n",
    "log_be = np.log10(bin_edges)\n",
    "x1 = 10**((log_be[1:] + log_be[:-1]) / 2)\n",
    "plt.loglog(x1, density_rand, 'r', label='Computer generated')\n",
    "plt.xlabel(r\"degree $k$\", fontsize=16)\n",
    "plt.ylabel(r\"$P(k)$\", fontsize=16)\n",
    "ax = plt.gca()\n",
    "ax.spines['right'].set_visible(False)\n",
    "ax.spines['top'].set_visible(False)\n",
    "ax.yaxis.set_ticks_position('left')\n",
    "ax.xaxis.set_ticks_position('bottom')\n",
    "plt.legend(bbox_to_anchor=(1.05, 1), loc=2, borderaxespad=0.)\n",
    "plt.title('Degree distribution \\n', fontsize=16)\n",
    "plt.show()\n"
   ]
  },
  {
   "cell_type": "code",
   "execution_count": null,
   "metadata": {},
   "outputs": [],
   "source": [
    "degrees_rand= list(G_gnm.degree().values())\n",
    "kmin = min(degrees_rand)\n",
    "kmax = max(degrees_rand)\n",
    "bin_edges = np.linspace(kmin,kmax, num=50)\n",
    "density_rand, bins = np.histogram(degrees_rand, bins=bin_edges, density=True)\n",
    "fig2 = plt.figure(figsize=(6,4))\n",
    "log_be = np.log10(bin_edges)\n",
    "x1 = 10**((log_be[1:] + log_be[:-1])/2)\n",
    "\n",
    "plt.plot(x1, density_rand, 'r--', label='Computer generated') \n",
    "plt.xlabel(r\"degree $k$\", fontsize=16)\n",
    "plt.ylabel(r\"$P(k)$\", fontsize=16)\n",
    "ax = plt.gca()\n",
    "ax.spines['right'].set_visible(False)\n",
    "ax.spines['top'].set_visible(False)\n",
    "ax.yaxis.set_ticks_position('left')\n",
    "ax.xaxis.set_ticks_position('bottom')\n",
    "#fit1.power_law.plot_pdf(ax=ax, label='Power law fit',color='r', marker='+')\n",
    "plt.legend(bbox_to_anchor=(1.05, 1), loc=2, borderaxespad=0.)\n",
    "plt.title('Degree distribution \\n',fontsize=16)\n",
    "plt.show()\n",
    "\n",
    "\n",
    "#degree_airport_gnm"
   ]
  },
  {
   "cell_type": "code",
   "execution_count": null,
   "metadata": {
    "collapsed": true,
    "jupyter": {
     "outputs_hidden": true
    }
   },
   "outputs": [],
   "source": [
    "# Calculating clustering distribution\n",
    "P = G.copy()\n",
    "cls = []\n",
    "deg_cl = []\n",
    "\n",
    "for node in P.nodes():\n",
    "    a = nx.clustering(P, nodes=node, weight=None)\n",
    "    cls.append(a)\n",
    "    d = P.degree(node)\n",
    "    deg_cl.append(d)\n",
    "\n",
    "plt.figure(figsize=(10, 6))\n",
    "plt.scatter(deg_cl, cls)\n",
    "plt.xlabel(\"Degree\") \n",
    "plt.ylabel(\"Clustering Coefficient\")\n",
    "plt.title(\"C(k)\")\n",
    "plt.grid(True)\n",
    "plt.show()"
   ]
  },
  {
   "cell_type": "code",
   "execution_count": null,
   "metadata": {},
   "outputs": [],
   "source": [
    "#calculating clustering distribution of random graph\n",
    "Crand=G_gnm.copy()\n",
    "cls=[]\n",
    "deg_cl=[]\n",
    "\n",
    "for i in range(0,len(Crand)):\n",
    "    a=nx.clustering(Crand,nodes= i,weight=None)\n",
    "    cls.append(a)\n",
    "    d=Crand.degree(i)\n",
    "    deg_cl.append(d)\n",
    "\n",
    "plt.scatter(deg_cl, cls)\n",
    "plt.xlabel(\"Degree\") \n",
    "plt.ylabel(\"Clustering Coefficient\")\n",
    "plt.title(\"C(k) - Random GNM model\") \n",
    "#plt.legend()"
   ]
  },
  {
   "cell_type": "code",
   "execution_count": null,
   "metadata": {},
   "outputs": [],
   "source": [
    "# Calculating clustering distribution of random graph\n",
    "Crand = G_gnm.copy()\n",
    "cls_rand = []\n",
    "deg_cl_rand = []\n",
    "\n",
    "for node in Crand.nodes():\n",
    "    a = nx.clustering(Crand, nodes=node, weight=None)\n",
    "    cls_rand.append(a)\n",
    "    d = Crand.degree(node)\n",
    "    deg_cl_rand.append(d)\n",
    "\n",
    "plt.figure(figsize=(10, 6))\n",
    "plt.scatter(deg_cl_rand, cls_rand)\n",
    "plt.xlabel(\"Degree\") \n",
    "plt.ylabel(\"Clustering Coefficient\")\n",
    "plt.title(\"C(k) - Random GNM model\")\n",
    "plt.grid(True)\n",
    "plt.show()\n"
   ]
  },
  {
   "cell_type": "markdown",
   "metadata": {},
   "source": [
    "#making the refined Graph\n",
    "remove_nodes = genfromtxt('cn_remove_nodes.csv', delimiter=',',dtype=str)"
   ]
  },
  {
   "cell_type": "code",
   "execution_count": null,
   "metadata": {
    "collapsed": true,
    "jupyter": {
     "outputs_hidden": true
    }
   },
   "outputs": [],
   "source": [
    "#making the refined Graph \n",
    "remove_nodes = genfromtxt('cn_remove_nodes.csv', delimiter=',',dtype=str)\n",
    "rem_nodes=remove_nodes[1:]"
   ]
  },
  {
   "cell_type": "code",
   "execution_count": null,
   "metadata": {},
   "outputs": [],
   "source": [
    "Ref_G=G.copy()\n",
    "Ref_G.remove_nodes_from(remove_nodes)\n",
    "print (len(Ref_G))    \n",
    "Ref_G.size()"
   ]
  },
  {
   "cell_type": "code",
   "execution_count": null,
   "metadata": {
    "collapsed": true,
    "jupyter": {
     "outputs_hidden": true
    }
   },
   "outputs": [],
   "source": [
    "nx.write_edgelist(Ref_G, \"edgelist2.txt\", data=['weight'])"
   ]
  },
  {
   "cell_type": "code",
   "execution_count": null,
   "metadata": {
    "collapsed": true,
    "jupyter": {
     "outputs_hidden": true
    }
   },
   "outputs": [],
   "source": [
    "#[G.degree(node) for node in nodes]"
   ]
  },
  {
   "cell_type": "code",
   "execution_count": null,
   "metadata": {},
   "outputs": [],
   "source": [
    "#Weight distribution\n",
    "weight_new = [int(x) for x in weight]\n",
    "\n",
    "#copying in the same code\n",
    "degrees1 = list(weight_new)\n",
    "kmin = min(degrees1)\n",
    "kmax = max(degrees1)\n",
    "bin_edges = np.logspace(np.log10(kmin), np.log10(kmax), num=10)\n",
    "density1, bins = np.histogram(degrees1, bins=bin_edges, density=True)\n",
    "fig1 = plt.figure(figsize=(6,4))\n",
    "log_be = np.log10(bin_edges)\n",
    "x1 = 10**((log_be[1:] + log_be[:-1])/2)\n",
    "plt.loglog(x1, density1, 'r--', label='Actual') \n",
    "plt.xlabel(r\"weight $k$\", fontsize=16)\n",
    "plt.ylabel(r\"$P(w)$\", fontsize=16)\n",
    "ax = plt.gca()\n",
    "ax.spines['right'].set_visible(False)\n",
    "ax.spines['top'].set_visible(False)\n",
    "ax.yaxis.set_ticks_position('left')\n",
    "ax.xaxis.set_ticks_position('bottom')\n",
    "#fit1.power_law.plot_pdf(ax=ax, label='Power law fit',color='r', marker='+')\n",
    "plt.legend(bbox_to_anchor=(1.05, 1), loc=2, borderaxespad=0.)\n",
    "plt.title('Weight distribution \\n',fontsize=16)\n",
    "plt.show()"
   ]
  },
  {
   "cell_type": "code",
   "execution_count": null,
   "metadata": {
    "collapsed": true,
    "jupyter": {
     "outputs_hidden": true
    }
   },
   "outputs": [],
   "source": []
  }
 ],
 "metadata": {
  "kernelspec": {
   "display_name": "Python [conda env:pyces] *",
   "language": "python",
   "name": "conda-env-pyces-py"
  },
  "language_info": {
   "codemirror_mode": {
    "name": "ipython",
    "version": 3
   },
   "file_extension": ".py",
   "mimetype": "text/x-python",
   "name": "python",
   "nbconvert_exporter": "python",
   "pygments_lexer": "ipython3",
   "version": "3.9.6"
  }
 },
 "nbformat": 4,
 "nbformat_minor": 4
}
